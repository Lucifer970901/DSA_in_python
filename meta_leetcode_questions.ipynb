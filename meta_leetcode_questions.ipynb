{
 "cells": [
  {
   "cell_type": "markdown",
   "id": "18320e1b",
   "metadata": {},
   "source": [
    "**Minimum Remove to make Valid Parentheses**\n",
    "\n",
    "You are given a string s consisting of lowercase English characters, as well as opening and closing parentheses, ( and ).\n",
    "\n",
    "Your task is to remove the minimum number of parentheses so that the resulting string is valid.\n",
    "\n",
    "Return the resulting string after removing the invalid parentheses.\n",
    "\n",
    "A parentheses string is valid if all of the following conditions are met:\n",
    "\n",
    "It is the empty string, contains only lowercase characters, or\n",
    "It can be written as AB (A concatenated with B), where A and B are valid strings, or\n",
    "It can be written as (A), where A is a valid string.\n",
    "Example 1:\n",
    "\n",
    "Input: s = \"nee(t(c)o)de)\"\n",
    "\n",
    "Output: \"nee(t(c)ode)\"\n",
    "Explanation: \"nee(t(co)de)\" , \"nee(t(c)o)de\" would also be accepted.\n",
    "Example 2:\n",
    "\n",
    "Input: s = \"x(y)z(\"\n",
    "\n",
    "Output: \"x(y)z\"\n",
    "Example 3:\n",
    "\n",
    "Input: s = \"))()((\"\n",
    "\n",
    "Output: \"()\""
   ]
  },
  {
   "cell_type": "code",
   "execution_count": null,
   "id": "09a8638a",
   "metadata": {},
   "outputs": [],
   "source": []
  },
  {
   "cell_type": "code",
   "execution_count": null,
   "id": "d62d398b",
   "metadata": {},
   "outputs": [],
   "source": []
  }
 ],
 "metadata": {
  "language_info": {
   "name": "python"
  }
 },
 "nbformat": 4,
 "nbformat_minor": 5
}
