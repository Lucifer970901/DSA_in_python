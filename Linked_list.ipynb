{
 "cells": [
  {
   "cell_type": "markdown",
   "id": "d330d1a7",
   "metadata": {},
   "source": [
    "**Reverse Linked List**\n",
    "\n",
    "Given the beginning of a singly linked list head, reverse the list, and return the new beginning of the list.\n",
    "\n",
    "Example 1:\n",
    "\n",
    "Input: head = [0,1,2,3]\n",
    "\n",
    "Output: [3,2,1,0]\n",
    "Example 2:\n",
    "\n",
    "Input: head = []\n",
    "\n",
    "Output: []"
   ]
  },
  {
   "cell_type": "code",
   "execution_count": 1,
   "id": "846ab3ff",
   "metadata": {},
   "outputs": [
    {
     "name": "stdout",
     "output_type": "stream",
     "text": [
      "3 -> 2 -> 1 -> 0 -> None\n"
     ]
    }
   ],
   "source": [
    "from typing import Optional\n",
    "# Definition for singly-linked list.\n",
    "class ListNode:\n",
    "    def __init__(self, val=0, next=None):\n",
    "        self.val = val\n",
    "        self.next = next\n",
    "# Helper function to convert a Python list to a linked list #not required for solution\n",
    "def create_linked_list(arr):\n",
    "    if not arr:\n",
    "        return None\n",
    "    head = ListNode(arr[0])\n",
    "    current = head\n",
    "    for val in arr[1:]:\n",
    "        current.next = ListNode(val)\n",
    "        current = current.next\n",
    "    return head\n",
    "# Helper function to print a linked list (for verification)\n",
    "def print_linked_list(head):\n",
    "    current = head\n",
    "    while current:\n",
    "        print(current.val, end=\" -> \")\n",
    "        current = current.next\n",
    "    print(\"None\")\n",
    " #actual code needed\n",
    "class Solution:\n",
    "    def reverseList(self, head: Optional[ListNode]) -> Optional[ListNode]:\n",
    "        prev,curr = None,head\n",
    "        while curr:\n",
    "            temp = curr.next\n",
    "            curr.next = prev\n",
    "            prev =  curr\n",
    "            curr = temp\n",
    "        return prev\n",
    "s = Solution()\n",
    "linked_list_head = create_linked_list([0,1,2,3])\n",
    "reversed_head= s.reverseList(linked_list_head)\n",
    "print_linked_list(reversed_head)"
   ]
  },
  {
   "cell_type": "code",
   "execution_count": 2,
   "id": "796837d0",
   "metadata": {},
   "outputs": [
    {
     "name": "stdout",
     "output_type": "stream",
     "text": [
      "2 -> 1 -> None\n"
     ]
    }
   ],
   "source": [
    "#recursive approach\n",
    "class Solution:\n",
    "    def reverseList(self, head: Optional[ListNode]) -> Optional[ListNode]:\n",
    "        if not head or not head.next:\n",
    "            return head\n",
    "        new_head = self.reverseList(head.next)\n",
    "        head.next.next = head\n",
    "        head.next = None\n",
    "        return new_head\n",
    "\n",
    "s = Solution()\n",
    "linked_list_head = create_linked_list([1,2])\n",
    "reversed_head= s.reverseList(linked_list_head)\n",
    "print_linked_list(reversed_head)"
   ]
  },
  {
   "cell_type": "markdown",
   "id": "d0b741fc",
   "metadata": {},
   "source": [
    "**Merge Two Sorted Linked Lists**\n",
    " \n",
    "You are given the heads of two sorted linked lists list1 and list2.\n",
    "\n",
    "Merge the two lists into one sorted linked list and return the head of the new sorted linked list.\n",
    "\n",
    "The new list should be made up of nodes from list1 and list2.\n",
    "\n",
    "Example 1:\n",
    "Input: list1 = [1,2,4], list2 = [1,3,5]\n",
    "Output: [1,1,2,3,4,5]\n",
    "\n",
    "Example 2:\n",
    "Input: list1 = [], list2 = [1,2]\n",
    "Output: [1,2]\n",
    "\n",
    "Example 3:\n",
    "Input: list1 = [], list2 = []\n",
    "Output: []"
   ]
  },
  {
   "cell_type": "code",
   "execution_count": 3,
   "id": "4c04643f",
   "metadata": {},
   "outputs": [
    {
     "name": "stdout",
     "output_type": "stream",
     "text": [
      "Merged List:\n",
      "1 -> 1 -> 2 -> 3 -> 4 -> 5 -> None\n"
     ]
    }
   ],
   "source": [
    "from typing import Optional\n",
    "\n",
    "# Node definition must be included\n",
    "class ListNode:\n",
    "    def __init__(self, val=0, next=None):\n",
    "        self.val = val\n",
    "        self.next = next\n",
    "\n",
    "class Solution:\n",
    "    def mergeTwoLists(self, list1: Optional[ListNode], list2: Optional[ListNode]) -> Optional[ListNode]:\n",
    "        dummy = ListNode()\n",
    "        tail = dummy\n",
    "\n",
    "        while list1 and list2:\n",
    "            if list1.val < list2.val:\n",
    "                tail.next = list1\n",
    "                list1 = list1.next\n",
    "            else:\n",
    "                tail.next = list2\n",
    "                list2 = list2.next\n",
    "            tail = tail.next\n",
    "\n",
    "        if list1:\n",
    "            tail.next = list1\n",
    "        if list2:\n",
    "            tail.next = list2\n",
    "\n",
    "        return dummy.next\n",
    "\n",
    "\n",
    "# Correct usage outside of the class\n",
    "s = Solution()\n",
    "linked_list_head1 = create_linked_list([1, 2, 4])\n",
    "linked_list_head2 = create_linked_list([1, 3, 5])\n",
    "merged_head = s.mergeTwoLists(linked_list_head1, linked_list_head2)\n",
    "print(\"Merged List:\")\n",
    "print_linked_list(merged_head)"
   ]
  },
  {
   "cell_type": "code",
   "execution_count": 4,
   "id": "c53397c0",
   "metadata": {},
   "outputs": [
    {
     "name": "stdout",
     "output_type": "stream",
     "text": [
      "Merged List:\n",
      "1 -> 1 -> 2 -> 3 -> 4 -> 5 -> None\n"
     ]
    }
   ],
   "source": [
    "#recursive approach\n",
    "class Solution:\n",
    "    def mergeTwoLists(self, list1: Optional[ListNode], list2: Optional[ListNode]) -> Optional[ListNode]:\n",
    "        if list1 is None:\n",
    "            return list2\n",
    "        if list2 is None:\n",
    "            return list1\n",
    "        if list1.val < list2.val:\n",
    "            list1.next = self.mergeTwoLists(list1.next,list2)\n",
    "            return list1\n",
    "        else:\n",
    "            list2.next = self.mergeTwoLists(list2.next,list1)\n",
    "            return list2\n",
    "\n",
    "# Correct usage outside of the class\n",
    "s = Solution()\n",
    "linked_list_head1 = create_linked_list([1, 2, 4])\n",
    "linked_list_head2 = create_linked_list([1, 3, 5])\n",
    "merged_head = s.mergeTwoLists(linked_list_head1, linked_list_head2)\n",
    "print(\"Merged List:\")\n",
    "print_linked_list(merged_head)\n"
   ]
  },
  {
   "cell_type": "markdown",
   "id": "02f8e5f1",
   "metadata": {},
   "source": [
    "**Linked List Cycle Detection**\n",
    "\n",
    "Given the beginning of a linked list head, return true if there is a cycle in the linked list. Otherwise, return false.\n",
    "\n",
    "There is a cycle in a linked list if at least one node in the list can be visited again by following the next pointer.\n",
    "\n",
    "Internally, index determines the index of the beginning of the cycle, if it exists. The tail node of the list will set it's next pointer to the index-th node. If index = -1, then the tail node points to null and no cycle exists.\n",
    "\n",
    "Note: index is not given to you as a parameter.\n",
    "\n",
    "Example 1:\n",
    "Input: head = [1,2,3,4], index = 1\n",
    "Output: true\n",
    "\n",
    "Explanation: There is a cycle in the linked list, where the tail connects to the 1st node (0-indexed).\n",
    "\n",
    "Example 2:\n",
    "Input: head = [1,2], index = -1\n",
    "Output: false"
   ]
  },
  {
   "cell_type": "code",
   "execution_count": 5,
   "id": "9e8212bb",
   "metadata": {},
   "outputs": [],
   "source": [
    "#function for generating linked list with cycle\n",
    "from typing import Optional\n",
    "\n",
    "# Node definition\n",
    "class ListNode:\n",
    "    def __init__(self, val=0, next=None):\n",
    "        self.val = val\n",
    "        self.next = next\n",
    "\n",
    "# Function to create a list with a cycle\n",
    "def create_cyclic_linked_list():\n",
    "    # Create the nodes\n",
    "    head = ListNode(1)\n",
    "    node2 = ListNode(2)\n",
    "    node3 = ListNode(3)\n",
    "    node4 = ListNode(4)\n",
    "\n",
    "    # Link the nodes to form a straight list\n",
    "    head.next = node2\n",
    "    node2.next = node3\n",
    "    node3.next = node4\n",
    "\n",
    "    # Create the cycle: node4 points back to node2\n",
    "    node4.next = node2\n",
    "\n",
    "    return head"
   ]
  },
  {
   "cell_type": "code",
   "execution_count": 6,
   "id": "9623e63d",
   "metadata": {},
   "outputs": [
    {
     "name": "stdout",
     "output_type": "stream",
     "text": [
      "Does the linked list have a cycle? True\n"
     ]
    }
   ],
   "source": [
    "#  with hashset approach\n",
    "class Solution:\n",
    "    def hasCycle(self, head: Optional[ListNode]) -> bool:\n",
    "        seen = set()\n",
    "        curr = head\n",
    "        while curr:\n",
    "            if curr in seen:\n",
    "                return True\n",
    "            seen.add(curr)\n",
    "            curr = curr.next\n",
    "        return False\n",
    "\n",
    "# Example usage\n",
    "s = Solution()\n",
    "cyclic_head = create_cyclic_linked_list()\n",
    "has_cycle = s.hasCycle(cyclic_head)\n",
    "print(f\"Does the linked list have a cycle? {has_cycle}\")"
   ]
  },
  {
   "cell_type": "code",
   "execution_count": 7,
   "id": "1e9c290f",
   "metadata": {},
   "outputs": [
    {
     "name": "stdout",
     "output_type": "stream",
     "text": [
      "Does the linked list have a cycle? True\n"
     ]
    }
   ],
   "source": [
    "#with floyd's tortoise and hare algorithm\n",
    "class Solution:\n",
    "    def hasCycle(self, head: Optional[ListNode]) -> bool:\n",
    "        slow,fast = head,head\n",
    "        while fast and fast.next:\n",
    "            slow = slow.next\n",
    "            fast = fast.next.next\n",
    "            if slow == fast:\n",
    "                return True\n",
    "        return False\n",
    "    \n",
    "# Example usage\n",
    "s = Solution()\n",
    "cyclic_head = create_cyclic_linked_list()\n",
    "has_cycle = s.hasCycle(cyclic_head)\n",
    "print(f\"Does the linked list have a cycle? {has_cycle}\")"
   ]
  },
  {
   "cell_type": "markdown",
   "id": "cf2aacae",
   "metadata": {},
   "source": [
    "**Reorder Linked List**\n",
    "\n",
    "You are given the head of a singly linked-list.\n",
    "\n",
    "The positions of a linked list of length = 7 for example, can intially be represented as:\n",
    "\n",
    "[0, 1, 2, 3, 4, 5, 6]\n",
    "\n",
    "Reorder the nodes of the linked list to be in the following order:\n",
    "\n",
    "[0, 6, 1, 5, 2, 4, 3]\n",
    "\n",
    "Notice that in the general case for a list of length = n the nodes are reordered to be in the following order:\n",
    "\n",
    "[0, n-1, 1, n-2, 2, n-3, ...]\n",
    "\n",
    "You may not modify the values in the list's nodes, but instead you must reorder the nodes themselves.\n",
    "\n",
    "Example 1:\n",
    "\n",
    "Input: head = [2,4,6,8]\n",
    "\n",
    "Output: [2,8,4,6]\n",
    "\n",
    "Example 2:\n",
    "\n",
    "Input: head = [2,4,6,8,10]\n",
    "\n",
    "Output: [2,10,4,8,6]"
   ]
  },
  {
   "cell_type": "code",
   "execution_count": 11,
   "id": "c5ffefa5",
   "metadata": {},
   "outputs": [],
   "source": [
    "from typing import Optional\n",
    "\n",
    "# Node and helper functions\n",
    "class ListNode:\n",
    "    def __init__(self, val=0, next=None):\n",
    "        self.val = val\n",
    "        self.next = next\n",
    "\n",
    "def create_linked_list(arr):\n",
    "    if not arr:\n",
    "        return None\n",
    "    head = ListNode(arr[0])\n",
    "    current = head\n",
    "    for val in arr[1:]:\n",
    "        current.next = ListNode(val)\n",
    "        current = current.next\n",
    "    return head\n",
    "\n",
    "def print_linked_list(head):\n",
    "    current = head\n",
    "    while current:\n",
    "        print(current.val, end=\" -> \")\n",
    "        current = current.next\n",
    "    print(\"None\")"
   ]
  },
  {
   "cell_type": "code",
   "execution_count": null,
   "id": "3ef95760",
   "metadata": {},
   "outputs": [
    {
     "name": "stdout",
     "output_type": "stream",
     "text": [
      "None\n",
      "Original List:\n",
      "1 -> 2 -> 3 -> 4 -> 5 -> None\n",
      "\n",
      "Reordered List:\n",
      "1 -> 5 -> 2 -> 4 -> 3 -> None\n"
     ]
    }
   ],
   "source": [
    "#brute force approach\n",
    "class Solution:\n",
    "    def reorderList(self, head: Optional[ListNode]) -> None:\n",
    "        if not head or not head.next:\n",
    "            return \n",
    "        curr = head\n",
    "        nodes = []\n",
    "        \n",
    "        while curr:\n",
    "            nodes.append(curr)\n",
    "            curr = curr.next\n",
    "        i,j = 0,len(nodes)- 1\n",
    "        while (i<j):\n",
    "            nodes[i].next = nodes[j]\n",
    "            i += 1\n",
    "            if i >= j:\n",
    "                break\n",
    "            nodes[j].next = nodes[i]\n",
    "            j -= 1\n",
    "        nodes[i].next = None\n",
    "    \n",
    "s = Solution()\n",
    "linked_list_head = create_linked_list([1, 2, 3, 4, 5])\n",
    "reordered = s.reorderList(linked_list_head)\n",
    "print(reordered)\n",
    "\n",
    "# Example Usage\n",
    "s = Solution()\n",
    "linked_list_head = create_linked_list([1, 2, 3, 4, 5])\n",
    "print(\"Original List:\")\n",
    "print_linked_list(linked_list_head)\n",
    "\n",
    "s.reorderList(linked_list_head)\n",
    "print(\"\\nReordered List:\")\n",
    "print_linked_list(linked_list_head)"
   ]
  },
  {
   "cell_type": "code",
   "execution_count": null,
   "id": "d57a11a9",
   "metadata": {},
   "outputs": [
    {
     "name": "stdout",
     "output_type": "stream",
     "text": [
      "Original List:\n",
      "1 -> 2 -> 3 -> 4 -> 5 -> None\n",
      "\n",
      "Reordered List:\n",
      "1 -> 5 -> 2 -> 4 -> 3 -> None\n"
     ]
    }
   ],
   "source": [
    "#reorder in place space complexity = O(1)\n",
    "class Solution:\n",
    "    def reorderList(self, head: Optional[ListNode]) -> None:\n",
    "        slow,fast = head,head.next\n",
    "        while fast and fast.next:\n",
    "            slow = slow.next\n",
    "            fast = fast.next.next\n",
    "        \n",
    "        #reverse trhe 2nd half\n",
    "        second = slow.next\n",
    "        prev = slow.next = None\n",
    "        \n",
    "        while second:\n",
    "            tmp = second.next\n",
    "            second.next = prev\n",
    "            prev = second\n",
    "            second = tmp\n",
    "        #merge 2 halfs\n",
    "        first,second = head,prev\n",
    "        while second:\n",
    "            tmp1,tmp2 = first.next,second.next\n",
    "            first.next = second\n",
    "            second.next = tmp1\n",
    "            first,second = tmp1,tmp2\n",
    "\n",
    "s = Solution()\n",
    "linked_list_head = create_linked_list([1, 2, 3, 4, 5])\n",
    "print(\"Original List:\")\n",
    "print_linked_list(linked_list_head)\n",
    "\n",
    "s.reorderList(linked_list_head)\n",
    "print(\"\\nReordered List:\")\n",
    "print_linked_list(linked_list_head)"
   ]
  },
  {
   "cell_type": "code",
   "execution_count": null,
   "id": "7616ec67",
   "metadata": {},
   "outputs": [],
   "source": []
  }
 ],
 "metadata": {
  "kernelspec": {
   "display_name": "Python 3",
   "language": "python",
   "name": "python3"
  },
  "language_info": {
   "codemirror_mode": {
    "name": "ipython",
    "version": 3
   },
   "file_extension": ".py",
   "mimetype": "text/x-python",
   "name": "python",
   "nbconvert_exporter": "python",
   "pygments_lexer": "ipython3",
   "version": "3.10.0"
  }
 },
 "nbformat": 4,
 "nbformat_minor": 5
}
