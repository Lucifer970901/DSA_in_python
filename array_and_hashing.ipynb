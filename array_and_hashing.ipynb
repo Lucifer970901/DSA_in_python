{
 "cells": [
  {
   "cell_type": "markdown",
   "id": "d76375c9",
   "metadata": {},
   "source": [
    "<b>Array</b> - contains elements of the same datatype.\n",
    "\n",
    "length of the array - 0 to n-1 \n",
    "\n",
    "the elements of an array is stored in contigeous memory location."
   ]
  },
  {
   "cell_type": "markdown",
   "id": "99c2e66e-6d48-483b-b143-cd82b140d5de",
   "metadata": {},
   "source": [
    "<b> find the largest element in the array </b>"
   ]
  },
  {
   "cell_type": "code",
   "execution_count": 9,
   "id": "ca112048-ae29-4062-b041-b781eeb597de",
   "metadata": {},
   "outputs": [
    {
     "data": {
      "text/plain": [
       "13"
      ]
     },
     "execution_count": 9,
     "metadata": {},
     "output_type": "execute_result"
    }
   ],
   "source": [
    "#brute force solution - first sort the elements of the array and print the last element of the array\n",
    "list1 = [1,2,13,2,5]\n",
    "\n",
    "def largest():\n",
    "    list2 = sorted(list1) #time complexit O(nlogn)\n",
    "    return list2[-1]\n",
    "\n",
    "largest()"
   ]
  },
  {
   "cell_type": "code",
   "execution_count": 10,
   "id": "1e534322-7e39-4b65-a7e7-9621156e8966",
   "metadata": {},
   "outputs": [
    {
     "data": {
      "text/plain": [
       "13"
      ]
     },
     "execution_count": 10,
     "metadata": {},
     "output_type": "execute_result"
    }
   ],
   "source": [
    "#assign an element to be largest and compare it with all the elements in the array till the end\n",
    "list1 = [1,2,3,12,5,7,13]\n",
    "def largest():\n",
    "    large = list1[0]\n",
    "    for i in list1:        #time complextiy O(n) space complexity O(1)\n",
    "        if i > large:\n",
    "            large = i\n",
    "    return large\n",
    "largest()"
   ]
  },
  {
   "cell_type": "markdown",
   "id": "d7410797-dd40-430b-94e0-5979f847ede1",
   "metadata": {},
   "source": [
    "<b> find the second largest element in the array </b>"
   ]
  },
  {
   "cell_type": "code",
   "execution_count": 11,
   "id": "01eebbc1-06a9-476c-ba88-4d1fb42338eb",
   "metadata": {},
   "outputs": [
    {
     "data": {
      "text/plain": [
       "5"
      ]
     },
     "execution_count": 11,
     "metadata": {},
     "output_type": "execute_result"
    }
   ],
   "source": [
    "#Brute force approach : first i might sort then i might travel the entire array with time complexity of nlogn + n\n",
    "list1 = [1,2,13,2,5]\n",
    "\n",
    "def second_largest():\n",
    "    list2 = sorted(list1) #time complexity of O(nlogn)\n",
    "    \n",
    "    return list2[-2]\n",
    "second_largest()"
   ]
  },
  {
   "cell_type": "code",
   "execution_count": 1,
   "id": "62f6ee20-2f9b-4a0f-a0ed-631bc23d9aa1",
   "metadata": {},
   "outputs": [
    {
     "data": {
      "text/plain": [
       "7"
      ]
     },
     "execution_count": 1,
     "metadata": {},
     "output_type": "execute_result"
    }
   ],
   "source": [
    "#optimal approach find the largest in the first pass using normal for loop\n",
    "list1 = [2,3,7,10,5]\n",
    "\n",
    "def second_largest():\n",
    "    largest = float('-inf')\n",
    "    sec_large = float('-inf')\n",
    "    for i in list1:\n",
    "        if i > largest:\n",
    "            sec_large = largest\n",
    "            largest = i\n",
    "        elif i > sec_large and i < largest:\n",
    "            sec_large = i\n",
    "        else:\n",
    "            pass\n",
    "    return sec_large\n",
    "\n",
    "second_largest()"
   ]
  },
  {
   "cell_type": "markdown",
   "id": "c6b18177",
   "metadata": {},
   "source": [
    "<b>Check if an Array is Sorted</b>\n",
    "\n",
    "Problem Statement: Given an array of size n, write a program to check if the given array is sorted in (ascending / Increasing / Non-decreasing) order or not. If the array is sorted then return True, Else return False.\n",
    "\n",
    "Note: Two consecutive equal values are considered to be sorted.\n",
    "\n",
    "Example 1:\n",
    "Input: N = 5, array[] = {1,2,3,4,5}\n",
    "Output: True.\n",
    "\n",
    "Explanation: The given array is sorted i.e Every element in the array is smaller than or equals to its next values, So the answer is True.\n",
    "\n",
    "\n",
    "Example 2:\n",
    "Input: N = 5, array[] = {5,4,6,7,8}\n",
    "\n",
    "Output: False.\n",
    "Explanation: The given array is Not sorted i.e Every element in the array is not smaller than or equal to its next values, So the answer is False.\n",
    "\n",
    "Here element 5 is not smaller than or equal to its future elements."
   ]
  },
  {
   "cell_type": "code",
   "execution_count": 13,
   "id": "918e52a3-b09a-4947-8b7f-04b3f6295b74",
   "metadata": {},
   "outputs": [
    {
     "data": {
      "text/plain": [
       "True"
      ]
     },
     "execution_count": 13,
     "metadata": {},
     "output_type": "execute_result"
    }
   ],
   "source": [
    "#brute force\n",
    "list1 = [5,4,3,2,1]\n",
    "def sorted_or_not():\n",
    "    is_ascending = sorted(list1)\n",
    "    is_descending = list1 == sorted(list1,reverse = True)\n",
    "    if is_ascending or is_descending:\n",
    "        return True\n",
    "    else:\n",
    "        return False\n",
    "sorted_or_not()"
   ]
  },
  {
   "cell_type": "code",
   "execution_count": 14,
   "id": "00cb72b1",
   "metadata": {},
   "outputs": [
    {
     "data": {
      "text/plain": [
       "False"
      ]
     },
     "execution_count": 14,
     "metadata": {},
     "output_type": "execute_result"
    }
   ],
   "source": [
    "# optimal approach\n",
    "list1 = [5,4,3,2,1,12]\n",
    "def is_sorted_ascending():\n",
    "    for i in range (len(list1)-1):\n",
    "        if list1[i] > list1[i+1]:\n",
    "            return False\n",
    "    return True\n",
    "def is_sorted_descending():\n",
    "    for i in range(len(list1)-1):\n",
    "        if list1[i] < list1[i+1]:\n",
    "            return False\n",
    "    return True\n",
    "\n",
    "def main():\n",
    "    if is_sorted_ascending() or is_sorted_descending():\n",
    "        return True\n",
    "    else:\n",
    "        return False\n",
    "main()"
   ]
  },
  {
   "cell_type": "markdown",
   "id": "c3e03506",
   "metadata": {},
   "source": [
    "**Remove duplicates in place from a sorted array**\n",
    "\n",
    "Problem Statement: Given an integer array sorted in non-decreasing order, remove the duplicates in place such that each unique element appears only once. The relative order of the elements should be kept the same.\n",
    "\n",
    "If there are k elements after removing the duplicates, then the first k elements of the array should hold the final result. It does not matter what you leave beyond the first k elements.\n",
    "\n",
    "Note: Return k after placing the final result in the first k slots of the array."
   ]
  },
  {
   "cell_type": "code",
   "execution_count": 15,
   "id": "ace67ffb",
   "metadata": {},
   "outputs": [
    {
     "data": {
      "text/plain": [
       "[1, 2, 3]"
      ]
     },
     "execution_count": 15,
     "metadata": {},
     "output_type": "execute_result"
    }
   ],
   "source": [
    "#brute approach\n",
    "list1 = [1,2,2,2,2,3]\n",
    "list2 = []\n",
    "def remove_duplicates():\n",
    "    for i in list1:\n",
    "        if i not in list2: #time complexity O(n^2) as it go through the for loop as well as list2\n",
    "            list2.append(i)\n",
    "        else:\n",
    "            pass\n",
    "    return list2\n",
    "remove_duplicates()"
   ]
  },
  {
   "cell_type": "code",
   "execution_count": null,
   "id": "d7f023a2",
   "metadata": {},
   "outputs": [
    {
     "data": {
      "text/plain": [
       "[1, 2, 3, 5]"
      ]
     },
     "execution_count": 8,
     "metadata": {},
     "output_type": "execute_result"
    }
   ],
   "source": [
    "#using stacks\n",
    "def remove_dplicates(s):\n",
    "    stack = []\n",
    "    for i in s: \n",
    "        if stack and stack[-1] == i:\n",
    "            stack.pop()\n",
    "        else:\n",
    "            stack.append(i)\n",
    "    return stack\n",
    "remove_dplicates([1,2,2,2,3,4,4,5])"
   ]
  },
  {
   "cell_type": "code",
   "execution_count": 10,
   "id": "c755744c",
   "metadata": {},
   "outputs": [
    {
     "data": {
      "text/plain": [
       "[1, 2, 3, 4, 5]"
      ]
     },
     "execution_count": 10,
     "metadata": {},
     "output_type": "execute_result"
    }
   ],
   "source": [
    "def remove_dplicates(s):\n",
    "    seen = set()\n",
    "    for i in s:\n",
    "        if i not in seen:\n",
    "            seen.add(i)\n",
    "        else:\n",
    "            pass\n",
    "    return list(seen)\n",
    "remove_dplicates([1,2,2,2,3,4,4,5])"
   ]
  },
  {
   "cell_type": "code",
   "execution_count": 16,
   "metadata": {},
   "outputs": [
    {
     "data": {
      "text/plain": [
       "[1, 2, 3]"
      ]
     },
     "execution_count": 16,
     "metadata": {},
     "output_type": "execute_result"
    }
   ],
   "source": [
    "list1 = [1,2,2,2,3]\n",
    "def remove_duplicates():\n",
    "    list2 = list(set(list1)) #time complexity is O(n) as it has to go thorugh every element of the set to put into list\n",
    "    return list2\n",
    "remove_duplicates()"
   ]
  },
  {
   "cell_type": "code",
   "execution_count": null,
   "id": "f4736bcf",
   "metadata": {},
   "outputs": [
    {
     "data": {
      "text/plain": [
       "[1, 2, 3, 4]"
      ]
     },
     "execution_count": 3,
     "metadata": {},
     "output_type": "execute_result"
    }
   ],
   "source": [
    "#2 pointer approach\n",
    "def remove_duplicates(a):\n",
    "    i = 0\n",
    "    for j in range(1,len(a)):\n",
    "        if a[j] != a[i]:\n",
    "            i += 1\n",
    "            a[i] = a[j]\n",
    "            \n",
    "        else:\n",
    "            pass\n",
    "    return a[0:i+1] #for leetcode return len(a[0:i+1])\n",
    "remove_duplicates([1,2,2,3,3,3,3,3,3,4])"
   ]
  },
  {
   "cell_type": "markdown",
   "id": "268d1fdd",
   "metadata": {},
   "source": [
    "**Left rotate the array by one**\n",
    "\n",
    "Problem Statement: Given an array of N integers, left rotate the array by one place.\n",
    "\n",
    "Example 1:\n",
    "Input: N = 5, array[] = {1,2,3,4,5}\n",
    "Output: 2,3,4,5,1\n",
    "Explanation: \n",
    "Since all the elements in array will be shifted \n",
    "toward left by one so ‘2’ will now become the \n",
    "first index and and ‘1’ which was present at \n",
    "first index will be shifted at last."
   ]
  },
  {
   "cell_type": "code",
   "execution_count": 18,
   "id": "407a0494",
   "metadata": {},
   "outputs": [
    {
     "data": {
      "text/plain": [
       "[2, 3, 4, 5, 6, 7, 8, 1]"
      ]
     },
     "execution_count": 18,
     "metadata": {},
     "output_type": "execute_result"
    }
   ],
   "source": [
    "list1 = [1,2,3,4,5,6,7,8]\n",
    "list2 = []\n",
    "def left_rotate():\n",
    "    for i in range(2,len(list1)+1):\n",
    "        list2.append(i)\n",
    "    list2.append(list1[0])\n",
    "    return list2\n",
    "\n",
    "left_rotate()"
   ]
  },
  {
   "cell_type": "code",
   "execution_count": null,
   "id": "dfe89273",
   "metadata": {},
   "outputs": [
    {
     "data": {
      "text/plain": [
       "[5, 1, 2, 3, 4]"
      ]
     },
     "execution_count": 1,
     "metadata": {},
     "output_type": "execute_result"
    }
   ],
   "source": [
    "#right rotate by one\n",
    "class Solution:\n",
    "    def rotate(self, arr):\n",
    "        temp = arr[-1]\n",
    "        for i in range(len(arr)-1,-1,-1):\n",
    "            arr[i] = arr[i-1]\n",
    "        arr[0] = temp\n",
    "        return arr\n",
    "    \n",
    "d= Solution()\n",
    "d.rotate([1,2,3,4,5])"
   ]
  },
  {
   "cell_type": "code",
   "execution_count": 19,
   "id": "d4dd5b4a",
   "metadata": {},
   "outputs": [
    {
     "data": {
      "text/plain": [
       "[3, 4, 5, 2, 1, 7, 4, 2]"
      ]
     },
     "execution_count": 19,
     "metadata": {},
     "output_type": "execute_result"
    }
   ],
   "source": [
    "#in the same list\n",
    "def left_rotate(list1):\n",
    "    temp = list1[0]\n",
    "    n = len(list1)\n",
    "    for i in range(1,n):\n",
    "        list1[i-1] = list1[i]\n",
    "    \n",
    "    list1[n-1] = temp\n",
    "    \n",
    "    return list1\n",
    "left_rotate([2,3,4,5,2,1,7,4])"
   ]
  },
  {
   "cell_type": "code",
   "execution_count": 1,
   "id": "d49be92c",
   "metadata": {},
   "outputs": [
    {
     "data": {
      "text/plain": [
       "[2, 3, 4, 5, 6, 7, 8, 1]"
      ]
     },
     "execution_count": 1,
     "metadata": {},
     "output_type": "execute_result"
    }
   ],
   "source": [
    "#if you do not want to use a new list\n",
    "list1 = [1,2,3,4,5,6,7,8]\n",
    "def left_rotate_by_one():\n",
    "    temp = list1[0]\n",
    "    list1.remove(list1[0])\n",
    "    list1.append(temp) #time complexity is O(n)\n",
    "    return list1\n",
    "left_rotate_by_one()"
   ]
  },
  {
   "cell_type": "markdown",
   "id": "d31a8633",
   "metadata": {},
   "source": [
    "**Left rotate the array by D places**\n",
    "\n"
   ]
  },
  {
   "cell_type": "code",
   "execution_count": 21,
   "id": "d09ffd0e",
   "metadata": {},
   "outputs": [
    {
     "data": {
      "text/plain": [
       "[4, 5, 6, 7, 1, 2, 3]"
      ]
     },
     "execution_count": 21,
     "metadata": {},
     "output_type": "execute_result"
    }
   ],
   "source": [
    "list1 = [1,2,3,4,5,6,7]\n",
    "def left_rotate_by_d(d):\n",
    "    temp = list1[0:d]\n",
    "    n = len(list1)\n",
    "    d = d % n\n",
    "    #rotate\n",
    "    for i in range(n-d):\n",
    "        list1[i] = list1[d+i]\n",
    "    #add temp at the end\n",
    "    for i in range(d):\n",
    "        list1[n-d+i]  = temp[i]\n",
    "    return list1\n",
    "\n",
    "left_rotate_by_d(3) #time complexity is O(n+d) and space complexity O(d)"
   ]
  },
  {
   "cell_type": "code",
   "execution_count": 7,
   "id": "92027fd1",
   "metadata": {},
   "outputs": [
    {
     "data": {
      "text/plain": [
       "[5, 6, 7, 1, 2, 3, 4]"
      ]
     },
     "execution_count": 7,
     "metadata": {},
     "output_type": "execute_result"
    }
   ],
   "source": [
    "list1 = [1,2,3,4,5,6,7]\n",
    "def left_rotate_by_d(d):\n",
    "    n = len(list1)\n",
    "    #if d is greater than n, we can take mod\n",
    "    d = d % n\n",
    "    temp = list1[0:d+1]\n",
    "    del(list1[0:d+1])\n",
    "    for i in temp:\n",
    "        list1.append(i) #time complexity is O(n)\n",
    "    return list1\n",
    "left_rotate_by_d(3) #time complexity is O(n+d) and space complexity O(d)"
   ]
  },
  {
   "cell_type": "code",
   "execution_count": 22,
   "id": "979bd6ff",
   "metadata": {},
   "outputs": [
    {
     "data": {
      "text/plain": [
       "[5, 6, 7, 1, 2, 3, 4]"
      ]
     },
     "execution_count": 22,
     "metadata": {},
     "output_type": "execute_result"
    }
   ],
   "source": [
    "#what if i have to rotate it k time\n",
    "\n",
    "def left_rotate(nums,k):\n",
    "    \n",
    "    return nums[k+1:] + nums[:k+1]\n",
    "left_rotate([1,2,3,4,5,6,7],3)"
   ]
  },
  {
   "cell_type": "code",
   "execution_count": 6,
   "id": "b7897041",
   "metadata": {},
   "outputs": [
    {
     "data": {
      "text/plain": [
       "[5, 6, 1, 2, 3, 4]"
      ]
     },
     "execution_count": 6,
     "metadata": {},
     "output_type": "execute_result"
    }
   ],
   "source": [
    "#optimal approch - reverse algorithm\n",
    "def reverse(list1,start,end):\n",
    "    while (start < end):\n",
    "        list1[start],list1[end] = list1[end],list1[start]\n",
    "        start += 1\n",
    "        end -= 1\n",
    "    return list1\n",
    "def left_rotate(d,list1):\n",
    "    n=len(list1)\n",
    "    reverse(list1,0,n-d-1)\n",
    "    reverse(list1,n-d,n-1)\n",
    "    reverse(list1,0,n-1)\n",
    "    return list1\n",
    "\n",
    "left_rotate(2,[1,2,3,4,5,6])"
   ]
  },
  {
   "cell_type": "code",
   "execution_count": 5,
   "id": "773bec32",
   "metadata": {},
   "outputs": [
    {
     "data": {
      "text/plain": [
       "[3, 4, 5, 6, 1, 2]"
      ]
     },
     "execution_count": 5,
     "metadata": {},
     "output_type": "execute_result"
    }
   ],
   "source": [
    "# another way - if asked in geekforgeeks or leetcode\n",
    "def reverse(num,i,j):\n",
    "    while i<j:\n",
    "        num[i],num[j] = num[j],num[i]\n",
    "        i += 1\n",
    "        j -= 1\n",
    "    return num\n",
    "def rotatebyd(num,d):\n",
    "    n = len(num)\n",
    "    d = d % n\n",
    "    reverse(num,0,d-1)\n",
    "    reverse(num,d,n-1)\n",
    "    reverse(num,0,n-1)\n",
    "    return num\n",
    "\n",
    "rotatebyd([1,2,3,4,5,6],2)"
   ]
  },
  {
   "cell_type": "markdown",
   "id": "8c713994",
   "metadata": {},
   "source": [
    "**CONTAIN duplicate**\n",
    "\n",
    "Given an integer array nums, return true if any value appears more than once in the array, otherwise return false.\n",
    "\n",
    "Example 1:\n",
    "\n",
    "Input: nums = [1, 2, 3, 3]\n",
    "\n",
    "Output: true\n",
    "\n",
    "Example 2:\n",
    "\n",
    "Input: nums = [1, 2, 3, 4]\n",
    "\n",
    "Output: false\n"
   ]
  },
  {
   "cell_type": "code",
   "execution_count": 24,
   "id": "658e4b0a",
   "metadata": {},
   "outputs": [
    {
     "data": {
      "text/plain": [
       "False"
      ]
     },
     "execution_count": 24,
     "metadata": {},
     "output_type": "execute_result"
    }
   ],
   "source": [
    "#first approach\n",
    "def hasDuplicate(nums):\n",
    "    nums = sorted(nums) #time complexity = O(nlogn)\n",
    "    n = len(nums)\n",
    "    for i in range(n-1): # O(n)\n",
    "        if nums[i] == nums[i+1]:\n",
    "            return True\n",
    "        else:\n",
    "            pass\n",
    "    return False\n",
    "\n",
    "hasDuplicate([1,2,3,4,5]) #O(nlogn) + O(n)"
   ]
  },
  {
   "cell_type": "code",
   "execution_count": 25,
   "id": "07115e3a",
   "metadata": {},
   "outputs": [
    {
     "data": {
      "text/plain": [
       "True"
      ]
     },
     "execution_count": 25,
     "metadata": {},
     "output_type": "execute_result"
    }
   ],
   "source": [
    "def hasDuplicate(nums):\n",
    "    nums1 = set(nums) #space complexity  = O(n)\n",
    "    if len(nums1) != len(nums):#O(1) using hash set length\n",
    "        return True\n",
    "    else:\n",
    "        return False\n",
    "hasDuplicate([1,2,3,4,0,1,5]) #overall time complexity O(n)"
   ]
  },
  {
   "cell_type": "code",
   "execution_count": 26,
   "id": "cc080689",
   "metadata": {},
   "outputs": [
    {
     "data": {
      "text/plain": [
       "True"
      ]
     },
     "execution_count": 26,
     "metadata": {},
     "output_type": "execute_result"
    }
   ],
   "source": [
    "#another way to do this\n",
    "def hasDuplicate(nums):\n",
    "    seen = set() #using hash set\n",
    "    for num in nums:\n",
    "        if num in seen:\n",
    "            return True\n",
    "        else:\n",
    "            seen.add(num)\n",
    "    return False\n",
    "\n",
    "hasDuplicate([1,2,3,4,5,4,6])"
   ]
  },
  {
   "cell_type": "markdown",
   "id": "bcc440e4",
   "metadata": {},
   "source": [
    "**Valid Anagram**\n",
    "\n",
    "Given two strings s and t, return true if the two strings are anagrams of each other, otherwise return false.\n",
    "\n",
    "An anagram is a string that contains the exact same characters as another string, but the order of the characters can be different.\n",
    "\n",
    "Example 1:\n",
    "\n",
    "Input: s = \"racecar\", t = \"carrace\"\n",
    "\n",
    "Output: true"
   ]
  },
  {
   "cell_type": "code",
   "execution_count": 27,
   "id": "0270835f",
   "metadata": {},
   "outputs": [
    {
     "data": {
      "text/plain": [
       "True"
      ]
     },
     "execution_count": 27,
     "metadata": {},
     "output_type": "execute_result"
    }
   ],
   "source": [
    "def validAnagram(s,t):\n",
    "    s = sorted(s) #O(nlogn)\n",
    "    t = sorted(t) #O(nlogn)\n",
    "    if s == t:\n",
    "        return True\n",
    "    else:\n",
    "        return False\n",
    "    \n",
    "validAnagram(\"racecar\",\"carrace\")"
   ]
  },
  {
   "cell_type": "code",
   "execution_count": 28,
   "id": "7b99f761",
   "metadata": {},
   "outputs": [
    {
     "data": {
      "text/plain": [
       "False"
      ]
     },
     "execution_count": 28,
     "metadata": {},
     "output_type": "execute_result"
    }
   ],
   "source": [
    "#better approach\n",
    "def validAnagram(s,t):\n",
    "    countS,countT = {},{}\n",
    "    if len(s) != len(t):\n",
    "        return False\n",
    "    for i in range(len(s)):\n",
    "        countS[s[i]] = countS.get(s[i],0) + 1\n",
    "        countT[t[i]] = countT.get(t[i],0) + 1\n",
    "    for c in countS:\n",
    "        if countS[c] !=  countT.get(c,0):\n",
    "            return False\n",
    "        else:\n",
    "            pass\n",
    "    return True\n",
    "\n",
    "validAnagram(\"jar\",\"jam\")"
   ]
  },
  {
   "cell_type": "markdown",
   "id": "2b175c78",
   "metadata": {},
   "source": [
    "**Two Sum**\n",
    "\n",
    "Given an array of integers nums and an integer target, return the indices i and j such that nums[i] + nums[j] == target and i != j.\n",
    "\n",
    "You may assume that every input has exactly one pair of indices i and j that satisfy the condition.\n",
    "\n",
    "Return the answer with the smaller index first.\n",
    "\n",
    "Example 1:\n",
    "\n",
    "Input: \n",
    "nums = [3,4,5,6], target = 7\n",
    "\n",
    "Output: [0,1]"
   ]
  },
  {
   "cell_type": "code",
   "execution_count": 29,
   "id": "7f072094",
   "metadata": {},
   "outputs": [
    {
     "data": {
      "text/plain": [
       "[2, 3]"
      ]
     },
     "execution_count": 29,
     "metadata": {},
     "output_type": "execute_result"
    }
   ],
   "source": [
    "#brute force approach\n",
    "def twoSum(nums, target):\n",
    "    list1 = []\n",
    "    for i in range(len(nums)):\n",
    "        for j in range(len(nums)):\n",
    "            if nums[i] + nums[j] == target and i != j:\n",
    "                return [i,j]\n",
    "            else:\n",
    "                pass\n",
    "    return []\n",
    "            \n",
    "twoSum([1,2,3,4],7)"
   ]
  },
  {
   "cell_type": "code",
   "execution_count": 11,
   "id": "75487f9d",
   "metadata": {},
   "outputs": [
    {
     "data": {
      "text/plain": [
       "[1, 2]"
      ]
     },
     "execution_count": 11,
     "metadata": {},
     "output_type": "execute_result"
    }
   ],
   "source": [
    "#optimal approach using hashmap\n",
    "def twoSum(nums,target):\n",
    "    prevMap = {}\n",
    "    for i , n in enumerate(nums):\n",
    "        diff = target - n\n",
    "        if diff in prevMap:\n",
    "            return [prevMap[diff],i]\n",
    "        prevMap[n] = i\n",
    "    return []\n",
    "twoSum([1,2,3,4],5)"
   ]
  },
  {
   "cell_type": "code",
   "execution_count": 31,
   "id": "43ec6826",
   "metadata": {},
   "outputs": [
    {
     "data": {
      "text/plain": [
       "[2, 3]"
      ]
     },
     "execution_count": 31,
     "metadata": {},
     "output_type": "execute_result"
    }
   ],
   "source": [
    "#if the array is already sorted, use 2 pointer approach\n",
    "def twoSum(list1,target):\n",
    "    for i,n in enumerate(list1):\n",
    "        if list1[i] + list1[i+1] == target:\n",
    "            return [i,i+1]\n",
    "        else:\n",
    "            pass\n",
    "    return []\n",
    "\n",
    "\n",
    "twoSum([1,2,3,4],7)"
   ]
  },
  {
   "cell_type": "code",
   "execution_count": null,
   "id": "9527b83c",
   "metadata": {},
   "outputs": [
    {
     "data": {
      "text/plain": [
       "[2, 3]"
      ]
     },
     "execution_count": 32,
     "metadata": {},
     "output_type": "execute_result"
    }
   ],
   "source": [
    "#or using while loop in two pointer approach and assuming the array is sorted\n",
    "def twoSum(nums, target):\n",
    "    left = 0\n",
    "    right = len(nums)-1\n",
    "    while (left< right):\n",
    "        current_sum = nums[left]+nums[right]\n",
    "        if current_sum==target:\n",
    "            return[left,right]\n",
    "        elif current_sum < target:\n",
    "            left += 1\n",
    "        else:\n",
    "            right -= 1\n",
    "\n",
    "    return[]\n",
    "twoSum([1,2,3,4],7)"
   ]
  },
  {
   "cell_type": "code",
   "execution_count": 33,
   "id": "fc39c7e0",
   "metadata": {},
   "outputs": [
    {
     "data": {
      "text/plain": [
       "[3, 4]"
      ]
     },
     "execution_count": 33,
     "metadata": {},
     "output_type": "execute_result"
    }
   ],
   "source": [
    "def twoSum(numbers,target):\n",
    "    left = 0\n",
    "    right = len(numbers) - 1\n",
    "    while (left < right):\n",
    "        current_sum = numbers[left] + numbers[right]\n",
    "        if current_sum == target:\n",
    "            return [left +1,right+ 1] #this is for leetcode, where index + 1 is considered\n",
    "        elif current_sum < target:\n",
    "            left += 1\n",
    "        else:\n",
    "            right -= 1\n",
    "    return[]\n",
    "twoSum([1,2,3,4],7) "
   ]
  },
  {
   "cell_type": "markdown",
   "id": "b1ab8ae6",
   "metadata": {},
   "source": [
    "**Group Anagrams**\n",
    "\n",
    "Given an array of strings strs, group all anagrams together into sublists. You may return the output in any order.\n",
    "\n",
    "An anagram is a string that contains the exact same characters as another string, but the order of the characters can be different.\n",
    "\n",
    "Example 1:\n",
    "\n",
    "Input: strs = [\"act\",\"pots\",\"tops\",\"cat\",\"stop\",\"hat\"]\n",
    "\n",
    "Output: [[\"hat\"],[\"act\", \"cat\"],[\"stop\", \"pots\", \"tops\"]]"
   ]
  },
  {
   "cell_type": "code",
   "execution_count": 34,
   "id": "bf0dfc63",
   "metadata": {},
   "outputs": [
    {
     "data": {
      "text/plain": [
       "[['act', 'cat'], ['tops', 'stop']]"
      ]
     },
     "execution_count": 34,
     "metadata": {},
     "output_type": "execute_result"
    }
   ],
   "source": [
    "#using sorting approach along with hashmap\n",
    "from collections import defaultdict\n",
    "def groupAnagram(strs):\n",
    "    res = defaultdict(list)\n",
    "    for s in strs:\n",
    "        sortedS = ''.join(sorted(s))\n",
    "        res[sortedS].append(s)\n",
    "    return list(res.values())\n",
    "\n",
    "groupAnagram(['act','cat','tops','stop'])"
   ]
  },
  {
   "cell_type": "code",
   "execution_count": 35,
   "id": "7ac3f8eb",
   "metadata": {},
   "outputs": [
    {
     "data": {
      "text/plain": [
       "[['act', 'cat'], ['tops', 'stop']]"
      ]
     },
     "execution_count": 35,
     "metadata": {},
     "output_type": "execute_result"
    }
   ],
   "source": [
    "from collections import defaultdict\n",
    "def groupAnagram(strs):\n",
    "    res = defaultdict(list)\n",
    "    for s in strs:\n",
    "        count = [0] * 26\n",
    "        for c in s:\n",
    "            count[ord(c) - ord(\"a\")] += 1\n",
    "        res[tuple(count)].append(s)\n",
    "    return list(res.values())\n",
    "\n",
    "groupAnagram(['act','cat','tops','stop'])"
   ]
  },
  {
   "cell_type": "markdown",
   "id": "b8966544",
   "metadata": {},
   "source": [
    "**Top K Frequent Elements**\n",
    "\n",
    "Given an integer array nums and an integer k, return the k most frequent elements within the array.\n",
    "\n",
    "The test cases are generated such that the answer is always unique.\n",
    "\n",
    "You may return the output in any order.\n",
    "\n",
    "Example 1:\n",
    "\n",
    "Input: nums = [1,2,2,3,3,3], k = 2\n",
    "\n",
    "Output: [2,3]"
   ]
  },
  {
   "cell_type": "code",
   "execution_count": null,
   "id": "eb8e0cb5",
   "metadata": {},
   "outputs": [
    {
     "data": {
      "text/plain": [
       "[1, 2]"
      ]
     },
     "execution_count": 36,
     "metadata": {},
     "output_type": "execute_result"
    }
   ],
   "source": [
    "#brute force approach\n",
    "def topFrequent(nums,k):\n",
    "    freq_map = defaultdict(int)\n",
    "    result = []\n",
    "    for num in nums:\n",
    "            freq_map[num] += 1\n",
    "\n",
    "    items = list(freq_map.items()) #The dictionary items are converted to a list of (element, frequency) tuples.\n",
    "\n",
    "    sorted_items = sorted(items, key=lambda item: item[1], reverse=True) #original order in items will be maintained if their frequencies are equal.\n",
    "\n",
    "    for i in range(k):\n",
    "        result.append(sorted_items[i][0])\n",
    "    \n",
    "    return result\n",
    "\n",
    "\n",
    "\n",
    "topFrequent([1,1,2,2,3],k=2) #time complexity O(n) + O(nlogn)"
   ]
  },
  {
   "cell_type": "code",
   "execution_count": 13,
   "id": "dae2ffcb",
   "metadata": {},
   "outputs": [
    {
     "data": {
      "text/plain": [
       "[3, 2]"
      ]
     },
     "execution_count": 13,
     "metadata": {},
     "output_type": "execute_result"
    }
   ],
   "source": [
    "from collections import defaultdict\n",
    "import collections\n",
    "class Solution:\n",
    "\tdef topKFrequent(self, arr, k):\n",
    "\t\t# your code here\n",
    "\t\tres = []\n",
    "\t\tfreqmap = defaultdict(int)\n",
    "\t\tfor i in arr:\n",
    "\t\t    freqmap[i] += 1\n",
    "\t\titemslist = list(freqmap.items())\n",
    "\t\tsorteditems = sorted(itemslist,key = lambda items:(-items[1],-items[0])) # If two numbers have the same frequencies, then the larger number should be given more preference.\n",
    "\t\tfor i in range(k):\n",
    "\t\t    res.append(sorteditems[i][0])\n",
    "\t\treturn res\n",
    "\t\n",
    "c = Solution()\n",
    "c.topKFrequent([6 ,1, 1, 1, 2, 2, 3, 2, 3, 3],k=2)"
   ]
  },
  {
   "cell_type": "code",
   "execution_count": null,
   "id": "0d291fba",
   "metadata": {},
   "outputs": [
    {
     "data": {
      "text/plain": [
       "[1, 2]"
      ]
     },
     "execution_count": 37,
     "metadata": {},
     "output_type": "execute_result"
    }
   ],
   "source": [
    "def topFrequent(nums,k): #using bucket sort\n",
    "    count = {}\n",
    "    freq = [[]for i in range(len(nums)+1)]\n",
    "    res = []\n",
    "    for num in nums:\n",
    "        count[num] = 1+ count.get(num,0) #count the frequencies\n",
    "    for n,c in count.items():\n",
    "        freq[c].append(n) # populate the bucket - freq where index is frequency,[[], [3], [1, 2], [], [], []]is o/p for below example\n",
    "    for i in range(len(freq)-1,0,-1): #reverse traverse bucket\n",
    "        for n in freq[i]: #if there are more than 1 item inside on block of list\n",
    "            res.append(n) #fetch each and add to res\n",
    "            if len(res) == k:\n",
    "                return res\n",
    "            \n",
    "topFrequent([1,1,2,2,3],k=2)          #time complexity O(n)  "
   ]
  },
  {
   "cell_type": "code",
   "execution_count": null,
   "id": "fe4e2914",
   "metadata": {},
   "outputs": [
    {
     "data": {
      "text/plain": [
       "[2, 1]"
      ]
     },
     "execution_count": 1,
     "metadata": {},
     "output_type": "execute_result"
    }
   ],
   "source": [
    "import collections\n",
    "def topFrequentk(nums,k):\n",
    "    freq_map = collections.Counter(nums)\n",
    "    top_items = freq_map.most_common(k) #o(N + k log k) faster than O(nlog n)\n",
    "    result = [item[0] for item in top_items] # over all time complexity O(n)\n",
    "    return result\n",
    "\n",
    "topFrequentk([1,2,2,3],k=2)   "
   ]
  },
  {
   "cell_type": "markdown",
   "id": "307e71bf",
   "metadata": {},
   "source": [
    "**Encode and Decode Strings**\n",
    "\n",
    "Design an algorithm to encode a list of strings to a single string. The encoded string is then decoded back to the original list of strings.\n",
    "\n",
    "Please implement encode and decode\n",
    "\n",
    "Example 1:\n",
    "\n",
    "Input: [\"neet\",\"code\",\"love\",\"you\"]\n",
    "\n",
    "Output:[\"neet\",\"code\",\"love\",\"you\"]"
   ]
  },
  {
   "cell_type": "code",
   "execution_count": 4,
   "id": "6dee4464",
   "metadata": {},
   "outputs": [
    {
     "name": "stdout",
     "output_type": "stream",
     "text": [
      "neet#$code#$love#$you\n"
     ]
    },
    {
     "data": {
      "text/plain": [
       "['neet', 'code', 'love', 'you']"
      ]
     },
     "execution_count": 4,
     "metadata": {},
     "output_type": "execute_result"
    }
   ],
   "source": [
    "#using simple delimiter strategy, but if the delimiter appears in one of the string this fails\n",
    "def encode(strs):\n",
    "    return '#$'.join(strs)\n",
    "\n",
    "def decode(strs):\n",
    "    delimiter = '#$'\n",
    "    return strs.split(delimiter)\n",
    "\n",
    "encoded = encode([\"neet\",\"code\",\"love\",\"you\"])\n",
    "print(encoded)\n",
    "decode(encoded)"
   ]
  },
  {
   "cell_type": "code",
   "execution_count": null,
   "id": "018a39cd",
   "metadata": {},
   "outputs": [
    {
     "name": "stdout",
     "output_type": "stream",
     "text": [
      "4##eet4#code4#love3#you\n"
     ]
    },
    {
     "data": {
      "text/plain": [
       "['#eet', 'code', 'love', 'you']"
      ]
     },
     "execution_count": 2,
     "metadata": {},
     "output_type": "execute_result"
    }
   ],
   "source": [
    "def Encode(strs): \n",
    "    delimiter = '#'\n",
    "    encoded_list = []\n",
    "    for s in strs: # strs is list\n",
    "        length = len(s)\n",
    "        length = str(length)\n",
    "        encoded_list.append(length+delimiter+s)\n",
    "    return ''.join(encoded_list)\n",
    "\n",
    "def decode(strs): #here strs is string\n",
    "    decoded_list = []\n",
    "    pointer = 0\n",
    "    delimiter = '#'\n",
    "    while(pointer < len(strs)):\n",
    "        delimiter_index = strs.find(delimiter,pointer)\n",
    "        length_str = strs[pointer:delimiter_index]\n",
    "        length = int(length_str)\n",
    "        start_index = delimiter_index + 1\n",
    "        end_index = start_index + length\n",
    "        current_string = strs[start_index:end_index]\n",
    "        decoded_list.append(current_string)\n",
    "        pointer = end_index\n",
    "    return decoded_list\n",
    "encoded = Encode([\"#eet\",\"code\",\"love\",\"you\"])\n",
    "print(encoded)\n",
    "decode(encoded)"
   ]
  },
  {
   "cell_type": "code",
   "execution_count": 40,
   "id": "f11d3077",
   "metadata": {},
   "outputs": [
    {
     "name": "stdout",
     "output_type": "stream",
     "text": [
      "4##eet4#code4#love3#you\n"
     ]
    },
    {
     "data": {
      "text/plain": [
       "['#eet', 'code', 'love', 'you']"
      ]
     },
     "execution_count": 40,
     "metadata": {},
     "output_type": "execute_result"
    }
   ],
   "source": [
    "#another way to do this\n",
    "def encode (strs):\n",
    "    res = \"\"\n",
    "    for s in strs:\n",
    "        res += str(len(s)) + '#' + s\n",
    "    return res\n",
    "def decode(strs):\n",
    "    res,i = [],0\n",
    "    while i < len(strs):\n",
    "        j = i #j is delimiter index\n",
    "        while strs[j] != '#':\n",
    "            j+=1\n",
    "            length = int(strs[i:j]) #i is the pointer\n",
    "            res.append(strs[j+1:j+1+length])\n",
    "            i = j+1+length\n",
    "    return res\n",
    "encoded = Encode([\"#eet\",\"code\",\"love\",\"you\"])\n",
    "print(encoded)\n",
    "decode(encoded)"
   ]
  },
  {
   "cell_type": "markdown",
   "id": "2fbc9e85",
   "metadata": {},
   "source": [
    "**Products of Array Except Self**\n",
    "\n",
    "Given an integer array nums, return an array output where output[i] is the product of all the elements of nums except nums[i].\n",
    "\n",
    "Each product is guaranteed to fit in a 32-bit integer.\n",
    "\n",
    "Follow-up: Could you solve it in O(n) time without using the division operation?\n",
    "\n",
    "Example 1:\n",
    "\n",
    "Input: nums = [1,2,4,6]\n",
    "\n",
    "Output: [48,24,12,8]\n",
    "Example 2:\n",
    "\n",
    "Input: nums = [-1,0,1,2,3]\n",
    "\n",
    "Output: [0,-6,0,0,0]"
   ]
  },
  {
   "cell_type": "code",
   "execution_count": 41,
   "id": "29ba3401",
   "metadata": {},
   "outputs": [
    {
     "data": {
      "text/plain": [
       "[24, 12, 8, 6]"
      ]
     },
     "execution_count": 41,
     "metadata": {},
     "output_type": "execute_result"
    }
   ],
   "source": [
    "#brute force approach, time complexity O(n^2)\n",
    "def productExceptItself(nums):\n",
    "    res = []\n",
    "    for i in range(len(nums)):\n",
    "        prod = 1\n",
    "        for j in range(len(nums)):\n",
    "            if i == j:\n",
    "                continue\n",
    "            prod *= nums[j]\n",
    "        res.append(prod)\n",
    "    return  res\n",
    "productExceptItself([1,2,3,4])"
   ]
  },
  {
   "cell_type": "code",
   "execution_count": 4,
   "id": "7f60e895",
   "metadata": {},
   "outputs": [
    {
     "data": {
      "text/plain": [
       "[24, 12, 8, 6]"
      ]
     },
     "execution_count": 4,
     "metadata": {},
     "output_type": "execute_result"
    }
   ],
   "source": [
    "#using  prefix and postfix\n",
    "def productExceptItself(nums):\n",
    "    n = len(nums)\n",
    "    res = [1] * n\n",
    "    prefix = 1\n",
    "    for i in range(n):\n",
    "        res[i] = prefix\n",
    "        prefix *= nums[i]\n",
    "    postfix = 1\n",
    "    for i in range(n-1,-1,-1):\n",
    "        res[i] *= postfix\n",
    "        postfix *= nums[i]\n",
    "    return res\n",
    "productExceptItself([1,2,3,4])"
   ]
  },
  {
   "cell_type": "markdown",
   "id": "35eb9ef4",
   "metadata": {},
   "source": [
    "**Valid Sudoku**\n",
    "\n",
    "You are given a 9 x 9 Sudoku board board. A Sudoku board is valid if the following rules are followed:\n",
    "\n",
    "Each row must contain the digits 1-9 without duplicates.\n",
    "Each column must contain the digits 1-9 without duplicates.\n",
    "Each of the nine 3 x 3 sub-boxes of the grid must contain the digits 1-9 without duplicates.\n",
    "Return true if the Sudoku board is valid, otherwise return false\n",
    "\n",
    "Note: A board does not need to be full or be solvable to be valid.\n",
    "\n",
    "Example 1:\n",
    "\n",
    "Input: board = \n",
    "\n",
    "[[\"1\",\"2\",\".\",\".\",\"3\",\".\",\".\",\".\",\".\"],\n",
    "\n",
    " [\"4\",\".\",\".\",\"5\",\".\",\".\",\".\",\".\",\".\"],\n",
    "\n",
    " [\".\",\"9\",\"8\",\".\",\".\",\".\",\".\",\".\",\"3\"],\n",
    "\n",
    " [\"5\",\".\",\".\",\".\",\"6\",\".\",\".\",\".\",\"4\"],\n",
    "\n",
    " [\".\",\".\",\".\",\"8\",\".\",\"3\",\".\",\".\",\"5\"],\n",
    "\n",
    " [\"7\",\".\",\".\",\".\",\"2\",\".\",\".\",\".\",\"6\"],\n",
    "\n",
    " [\".\",\".\",\".\",\".\",\".\",\".\",\"2\",\".\",\".\"],\n",
    "\n",
    " [\".\",\".\",\".\",\"4\",\"1\",\"9\",\".\",\".\",\"8\"],\n",
    "\n",
    " [\".\",\".\",\".\",\".\",\"8\",\".\",\".\",\"7\",\"9\"]]\n",
    "\n",
    "Output: true"
   ]
  },
  {
   "cell_type": "code",
   "execution_count": 1,
   "id": "de36fe54",
   "metadata": {},
   "outputs": [
    {
     "data": {
      "text/plain": [
       "False"
      ]
     },
     "execution_count": 1,
     "metadata": {},
     "output_type": "execute_result"
    }
   ],
   "source": [
    "def validSudoku(board):\n",
    "    for row in range(9):\n",
    "        seen = set()\n",
    "        for i in range(9):\n",
    "            if board[row][i] == '.':\n",
    "                continue\n",
    "            if board[row][i] in seen:\n",
    "                return False\n",
    "            seen.add(board[row][i])\n",
    "        \n",
    "    for col in range(9):\n",
    "        seen = set()\n",
    "        for i in range(9):\n",
    "            if board[i][col] == '.':\n",
    "                continue\n",
    "            if board[i][col] in seen:\n",
    "                return False\n",
    "            seen.add(board[col][i])\n",
    "        \n",
    "    for square in range(9):\n",
    "        seen = set()\n",
    "        for i in range(3):\n",
    "            for j in range(3):\n",
    "                row = (square//3)*3+i\n",
    "                col = (square % 3)*3+j\n",
    "\n",
    "                if board[row][col] == '.':\n",
    "                    continue\n",
    "                if board[row][col] in seen:\n",
    "                    return False\n",
    "                seen.add(board[row][col])\n",
    "    return True  \n",
    "\n",
    "validSudoku(board = \n",
    "[[\"1\",\"2\",\".\",\".\",\"3\",\".\",\".\",\".\",\".\"],\n",
    " [\"4\",\".\",\".\",\"5\",\".\",\".\",\".\",\".\",\".\"],\n",
    " [\".\",\"9\",\"8\",\".\",\".\",\".\",\".\",\".\",\"3\"],\n",
    " [\"5\",\".\",\".\",\".\",\"6\",\".\",\".\",\".\",\"4\"],\n",
    " [\".\",\".\",\".\",\"8\",\".\",\"3\",\".\",\".\",\"5\"],\n",
    " [\"7\",\".\",\".\",\".\",\"2\",\".\",\".\",\".\",\"6\"],\n",
    " [\".\",\".\",\".\",\".\",\".\",\".\",\"2\",\".\",\".\"],\n",
    " [\".\",\".\",\".\",\"4\",\"1\",\"9\",\".\",\".\",\"8\"],\n",
    " [\".\",\".\",\".\",\".\",\"8\",\".\",\".\",\"7\",\"9\"]] )"
   ]
  },
  {
   "cell_type": "code",
   "execution_count": 44,
   "id": "58290d51",
   "metadata": {},
   "outputs": [
    {
     "data": {
      "text/plain": [
       "True"
      ]
     },
     "execution_count": 44,
     "metadata": {},
     "output_type": "execute_result"
    }
   ],
   "source": [
    "def isValidSudoku(board):\n",
    "    for row in range(9):\n",
    "        seen = set()\n",
    "        for i in range(9):\n",
    "            if board[row][i] == \".\": \n",
    "                continue\n",
    "            if board[row][i] in seen:\n",
    "                return False\n",
    "            seen.add(board[row][i])\n",
    "        \n",
    "    for col in range(9):\n",
    "        seen = set()\n",
    "        for i in range(9):\n",
    "            if board[i][col] == \".\":\n",
    "                continue\n",
    "            if board[i][col] in seen:\n",
    "                return False\n",
    "            seen.add(board[i][col])\n",
    "            \n",
    "    for square in range(9):\n",
    "        seen = set()\n",
    "        for i in range(3):\n",
    "            for j in range(3):\n",
    "                row = (square//3) * 3 + i\n",
    "                col = (square % 3) * 3 + j\n",
    "                if board[row][col] == \".\":\n",
    "                    continue\n",
    "                if board[row][col] in seen:\n",
    "                    return False\n",
    "                seen.add(board[row][col])\n",
    "    return True\n",
    "isValidSudoku(board = \n",
    "[[\"1\",\"2\",\".\",\".\",\"3\",\".\",\".\",\".\",\".\"],\n",
    " [\"4\",\".\",\".\",\"5\",\".\",\".\",\".\",\".\",\".\"],\n",
    " [\".\",\"9\",\"8\",\".\",\".\",\".\",\".\",\".\",\"3\"],\n",
    " [\"5\",\".\",\".\",\".\",\"6\",\".\",\".\",\".\",\"4\"],\n",
    " [\".\",\".\",\".\",\"8\",\".\",\"3\",\".\",\".\",\"5\"],\n",
    " [\"7\",\".\",\".\",\".\",\"2\",\".\",\".\",\".\",\"6\"],\n",
    " [\".\",\".\",\".\",\".\",\".\",\".\",\"2\",\".\",\".\"],\n",
    " [\".\",\".\",\".\",\"4\",\"1\",\"9\",\".\",\".\",\"8\"],\n",
    " [\".\",\".\",\".\",\".\",\"8\",\".\",\".\",\"7\",\"9\"]] )"
   ]
  },
  {
   "cell_type": "code",
   "execution_count": 1,
   "id": "1bfe8ecf",
   "metadata": {},
   "outputs": [
    {
     "data": {
      "text/plain": [
       "False"
      ]
     },
     "execution_count": 1,
     "metadata": {},
     "output_type": "execute_result"
    }
   ],
   "source": [
    "#another way using hashset, O(n^2)\n",
    "def isValidSudoku(board):\n",
    "    rows, cols, squares = set(), set(), set()\n",
    "    \n",
    "    for r in range(9):\n",
    "        for c in range(9):\n",
    "            if board[r][c] == '.':\n",
    "                continue\n",
    "            \n",
    "            if (r, board[r][c]) in rows or (board[r][c], c) in cols or ( board[r][c],r//3, c//3) in squares:\n",
    "                return False\n",
    "            \n",
    "            rows.add((r, board[r][c]))\n",
    "            cols.add((board[r][c], c))\n",
    "            squares.add((r//3, c//3, board[r][c]))\n",
    "    \n",
    "    return True\n",
    "isValidSudoku(board = \n",
    "[[\"1\",\"2\",\".\",\".\",\"3\",\".\",\".\",\".\",\"1\"],\n",
    " [\"4\",\".\",\".\",\"5\",\".\",\".\",\".\",\".\",\".\"],\n",
    " [\".\",\"9\",\"8\",\".\",\".\",\".\",\".\",\".\",\"3\"],\n",
    " [\"5\",\".\",\".\",\".\",\"6\",\".\",\".\",\".\",\"4\"],\n",
    " [\".\",\".\",\".\",\"8\",\".\",\"3\",\".\",\".\",\"5\"],\n",
    " [\"7\",\".\",\".\",\".\",\"2\",\".\",\".\",\".\",\"6\"],\n",
    " [\".\",\".\",\".\",\".\",\".\",\".\",\"2\",\".\",\".\"],\n",
    " [\".\",\".\",\".\",\"4\",\"1\",\"9\",\".\",\".\",\"8\"],\n",
    " [\".\",\".\",\".\",\".\",\"8\",\".\",\".\",\"7\",\"9\"]] )"
   ]
  },
  {
   "cell_type": "code",
   "execution_count": 4,
   "id": "fdfaa822",
   "metadata": {},
   "outputs": [
    {
     "data": {
      "text/plain": [
       "False"
      ]
     },
     "execution_count": 4,
     "metadata": {},
     "output_type": "execute_result"
    }
   ],
   "source": [
    "#here is another way\n",
    "\n",
    "def isValidSudoku(mat):\n",
    "    # code here\n",
    "    rows,cols,squares = set(),set(),set()\n",
    "    for r in range(9):\n",
    "        for c in range(9):\n",
    "            if mat[r][c] == '.':\n",
    "                continue\n",
    "                    \n",
    "                    \n",
    "            if ((r,mat[r][c]) in rows or (c,mat[r][c]) in cols or (r//3,c//3,mat[r][c]) in squares):\n",
    "                return False\n",
    "                \n",
    "            rows.add((r,mat[r][c]))\n",
    "            cols.add((c,mat[r][c]))\n",
    "            squares.add((r//3,c//3,mat[r][c]))\n",
    "    return True\n",
    "isValidSudoku(mat = \n",
    "[[\"1\",\"2\",\".\",\".\",\"3\",\".\",\".\",\".\",\"1\"],\n",
    " [\"4\",\".\",\".\",\"5\",\".\",\".\",\".\",\".\",\".\"],\n",
    " [\".\",\"9\",\"8\",\".\",\".\",\".\",\".\",\".\",\"3\"],\n",
    " [\"5\",\".\",\".\",\".\",\"6\",\".\",\".\",\".\",\"4\"],\n",
    " [\".\",\".\",\".\",\"8\",\".\",\"3\",\".\",\".\",\"5\"],\n",
    " [\"7\",\".\",\".\",\".\",\"2\",\".\",\".\",\".\",\"6\"],\n",
    " [\".\",\".\",\".\",\".\",\".\",\".\",\"2\",\".\",\".\"],\n",
    " [\".\",\".\",\".\",\"4\",\"1\",\"9\",\".\",\".\",\"8\"],\n",
    " [\".\",\".\",\".\",\".\",\"8\",\".\",\".\",\"7\",\"9\"]] )"
   ]
  },
  {
   "cell_type": "markdown",
   "id": "1cacb008",
   "metadata": {},
   "source": [
    "**longest consecutive sequence**\n",
    "\n",
    "A consecutive sequence is a sequence of elements in which each element is exactly 1 greater than the previous element. The elements do not have to be consecutive in the original array.\n",
    "\n",
    "You must write an algorithm that runs in O(n) time.\n",
    "\n",
    "Example 1:\n",
    "\n",
    "Input: nums = [2,20,4,10,3,4,5]\n",
    "\n",
    "Output: 4\n",
    "Explanation: The longest consecutive sequence is [2, 3, 4, 5]."
   ]
  },
  {
   "cell_type": "code",
   "execution_count": 4,
   "id": "08a2b9b9",
   "metadata": {},
   "outputs": [
    {
     "data": {
      "text/plain": [
       "6"
      ]
     },
     "execution_count": 4,
     "metadata": {},
     "output_type": "execute_result"
    }
   ],
   "source": [
    "def longestConsecutive(nums):\n",
    "    longest_streak = 1\n",
    "    current_streak = 1\n",
    "    nums = sorted(list(set(nums)))\n",
    "    for i in range(1,len(nums)):\n",
    "        if nums[i] ==  nums[i-1]+1:\n",
    "            current_streak += 1\n",
    "        else:\n",
    "            current_streak = 1\n",
    "        longest_streak = max(current_streak,longest_streak)\n",
    "    return longest_streak\n",
    "longestConsecutive([203,4,200,202,201,1,3,2,5,6]) #time complexity O(nlogn) + O(n)"
   ]
  },
  {
   "cell_type": "code",
   "execution_count": 5,
   "id": "06b1046d",
   "metadata": {},
   "outputs": [
    {
     "data": {
      "text/plain": [
       "6"
      ]
     },
     "execution_count": 5,
     "metadata": {},
     "output_type": "execute_result"
    }
   ],
   "source": [
    "def longestConsecutive(nums):\n",
    "    numset = set(nums)\n",
    "    longest_streak = 0\n",
    "    for n in nums:\n",
    "        if n-1 not in numset:\n",
    "            length = 0\n",
    "            while n+length in numset:\n",
    "                length += 1\n",
    "            longest_streak = max(longest_streak, length)\n",
    "    \n",
    "    return longest_streak\n",
    "longestConsecutive([2, 6, 1, 9, 4, 5, 3]) "
   ]
  },
  {
   "cell_type": "code",
   "execution_count": null,
   "id": "89df2904",
   "metadata": {},
   "outputs": [],
   "source": []
  }
 ],
 "metadata": {
  "kernelspec": {
   "display_name": "Python 3",
   "language": "python",
   "name": "python3"
  },
  "language_info": {
   "codemirror_mode": {
    "name": "ipython",
    "version": 3
   },
   "file_extension": ".py",
   "mimetype": "text/x-python",
   "name": "python",
   "nbconvert_exporter": "python",
   "pygments_lexer": "ipython3",
   "version": "3.10.0"
  }
 },
 "nbformat": 4,
 "nbformat_minor": 5
}
