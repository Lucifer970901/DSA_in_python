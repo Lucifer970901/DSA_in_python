{
 "cells": [
  {
   "cell_type": "markdown",
   "id": "d1db8cee",
   "metadata": {},
   "source": [
    "**Invert Binary Tree**\n",
    " \n",
    "You are given the root of a binary tree root. Invert the binary tree and return its root.\n",
    "\n",
    "Example 1:\n",
    "Input: root = [1,2,3,4,5,6,7]\n",
    "Output: [1,3,2,7,6,5,4]\n",
    "\n",
    "Example 2:\n",
    "Input: root = [3,2,1]\n",
    "Output: [3,1,2]\n",
    "\n",
    "Example 3:\n",
    "Input: root = []\n",
    "Output: []"
   ]
  },
  {
   "cell_type": "code",
   "execution_count": 1,
   "id": "a463c001",
   "metadata": {},
   "outputs": [],
   "source": [
    "from typing import Optional\n",
    "from collections import deque\n",
    "\n",
    "# Definition for a binary tree node.\n",
    "class TreeNode:\n",
    "    def __init__(self, val=0, left=None, right=None):\n",
    "        self.val = val\n",
    "        self.left = left\n",
    "        self.right = right\n",
    "\n",
    "# Helper function to create a binary tree from a list representation (level-order)\n",
    "def create_binary_tree(data):\n",
    "    if not data:\n",
    "        return None\n",
    "    root = TreeNode(data[0])\n",
    "    queue = deque([root])\n",
    "    i = 1\n",
    "    while queue and i < len(data):\n",
    "        current_node = queue.popleft()\n",
    "        if data[i] is not None:\n",
    "            current_node.left = TreeNode(data[i])\n",
    "            queue.append(current_node.left)\n",
    "        i += 1\n",
    "        if i < len(data) and data[i] is not None:\n",
    "            current_node.right = TreeNode(data[i])\n",
    "            queue.append(current_node.right)\n",
    "        i += 1\n",
    "    return root"
   ]
  },
  {
   "cell_type": "code",
   "execution_count": 2,
   "id": "2c4e3f19",
   "metadata": {},
   "outputs": [],
   "source": [
    "class Solution:\n",
    "    def invertTree(self, root: Optional[TreeNode]) -> Optional[TreeNode]:\n",
    "       if not root:\n",
    "          return None\n",
    "       \n",
    "       tmp = root.left\n",
    "       root.left = root.right\n",
    "       root.right = tmp\n",
    "\n",
    "       self.invertTree(root.left)\n",
    "       self.invertTree(root.right)\n",
    "       return root\n",
    "# Correct Usage\n",
    "s = Solution()\n",
    "tree_root = create_binary_tree([1, 2, 3, 4, 5, 6, 7])\n",
    "inverted_root = s.invertTree(tree_root)\n"
   ]
  },
  {
   "cell_type": "code",
   "execution_count": 3,
   "id": "41670d6d",
   "metadata": {},
   "outputs": [
    {
     "name": "stdout",
     "output_type": "stream",
     "text": [
      "Original tree (level-order):\n",
      "[1, 3, 2, 7, 6, 5, 4]\n",
      "Inverted tree (level-order):\n",
      "[1, 3, 2, 7, 6, 5, 4]\n"
     ]
    }
   ],
   "source": [
    "from typing import Optional\n",
    "from collections import deque\n",
    "\n",
    "# Definition for a binary tree node.\n",
    "class TreeNode:\n",
    "    def __init__(self, val=0, left=None, right=None):\n",
    "        self.val = val\n",
    "        self.left = left\n",
    "        self.right = right\n",
    "\n",
    "# Helper function to create a binary tree from a list representation (level-order)\n",
    "def create_binary_tree(data):\n",
    "    if not data:\n",
    "        return None\n",
    "    root = TreeNode(data[0])\n",
    "    queue = deque([root])\n",
    "    i = 1\n",
    "    while queue and i < len(data):\n",
    "        current_node = queue.popleft()\n",
    "        if data[i] is not None:\n",
    "            current_node.left = TreeNode(data[i])\n",
    "            queue.append(current_node.left)\n",
    "        i += 1\n",
    "        if i < len(data) and data[i] is not None:\n",
    "            current_node.right = TreeNode(data[i])\n",
    "            queue.append(current_node.right)\n",
    "        i += 1\n",
    "    return root\n",
    "\n",
    "class Solution:\n",
    "    def invertTree(self, root: Optional[TreeNode]) -> Optional[TreeNode]:\n",
    "        if not root:\n",
    "            return None\n",
    "        \n",
    "        tmp = root.left\n",
    "        root.left = root.right\n",
    "        root.right = tmp\n",
    "\n",
    "        self.invertTree(root.left)\n",
    "        self.invertTree(root.right)\n",
    "        return root\n",
    "\n",
    "# Correct Usage\n",
    "s = Solution()\n",
    "tree_root = create_binary_tree([1, 2, 3, 4, 5, 6, 7])\n",
    "inverted_root = s.invertTree(tree_root)\n",
    "\n",
    "# To verify, you would need another function to print the tree\n",
    "# For example, using level-order traversal\n",
    "def print_tree(root):\n",
    "    if not root:\n",
    "        print(\"[]\")\n",
    "        return\n",
    "    \n",
    "    nodes = []\n",
    "    queue = deque([root])\n",
    "    while queue:\n",
    "        node = queue.popleft()\n",
    "        if node:\n",
    "            nodes.append(node.val)\n",
    "            queue.append(node.left)\n",
    "            queue.append(node.right)\n",
    "        else:\n",
    "            nodes.append(None)\n",
    "    \n",
    "    # Prune trailing None values for cleaner output\n",
    "    while nodes and nodes[-1] is None:\n",
    "        nodes.pop()\n",
    "    print(nodes)\n",
    "\n",
    "print(\"Original tree (level-order):\")\n",
    "print_tree(tree_root)\n",
    "print(\"Inverted tree (level-order):\")\n",
    "print_tree(inverted_root)"
   ]
  },
  {
   "cell_type": "markdown",
   "id": "a68823ee",
   "metadata": {},
   "source": [
    "**Maximum Depth of Binary Tree**\n",
    "\n",
    "Given the root of a binary tree, return its depth.\n",
    "\n",
    "The depth of a binary tree is defined as the number of nodes along the longest path from the root node down to the farthest leaf node.\n",
    "\n",
    "Example 1:\n",
    "Input: root = [1,2,3,null,null,4]\n",
    "Output: 3\n",
    "\n",
    "Example 2:\n",
    "Input: root = []\n",
    "Output: 0"
   ]
  },
  {
   "cell_type": "code",
   "execution_count": 4,
   "id": "96ee4052",
   "metadata": {},
   "outputs": [
    {
     "name": "stdout",
     "output_type": "stream",
     "text": [
      "3\n"
     ]
    }
   ],
   "source": [
    "#recursive DFS approach\n",
    "class Solution:\n",
    "    def maxDepth(self, root: Optional[TreeNode]) -> int:\n",
    "        if not root:\n",
    "            return 0\n",
    "        return 1 + max(self.maxDepth(root.left),self.maxDepth(root.right))\n",
    "    \n",
    "s = Solution()\n",
    "tree_root = create_binary_tree([1, 2, 3,4,7])\n",
    "depth = s.maxDepth(tree_root)\n",
    "print(depth)"
   ]
  },
  {
   "cell_type": "code",
   "execution_count": 5,
   "id": "923e6a6d",
   "metadata": {},
   "outputs": [
    {
     "name": "stdout",
     "output_type": "stream",
     "text": [
      "3\n"
     ]
    }
   ],
   "source": [
    "#iterative BFS - level order traversal\n",
    "class Solution:\n",
    "    def maxDepth(self,root:Optional[TreeNode]) -> int:\n",
    "        if not root:\n",
    "            return 0\n",
    "        q = deque([root])\n",
    "        level = 0\n",
    "        while q:\n",
    "            level += 1\n",
    "            for _ in range(len(q)) :\n",
    "                node = q.popleft()\n",
    "                if node.left:\n",
    "                    q.append(node.left)\n",
    "                if node.right:\n",
    "                    q.append(node.right)\n",
    "            \n",
    "        return level\n",
    "\n",
    "s = Solution()\n",
    "tree_root = create_binary_tree([1, 2, 3,4,7])\n",
    "depth = s.maxDepth(tree_root)\n",
    "print(depth)"
   ]
  },
  {
   "cell_type": "code",
   "execution_count": 6,
   "id": "81f0a322",
   "metadata": {},
   "outputs": [
    {
     "name": "stdout",
     "output_type": "stream",
     "text": [
      "3\n"
     ]
    }
   ],
   "source": [
    "#Iterative DFS\n",
    "class Solution:\n",
    "    def maxDepth(self,root:Optional[TreeNode]) -> int:\n",
    "        stack = [[root,1]]\n",
    "        res =0\n",
    "        while stack:\n",
    "            node,depth = stack.pop()\n",
    "            if node:\n",
    "                res = max(res,depth)\n",
    "                stack.append([node.left, depth + 1])\n",
    "                stack.append([node.right,depth + 1])\n",
    "        return res\n",
    "s = Solution()\n",
    "tree_root = create_binary_tree([1, 2, 3,4,7])\n",
    "depth = s.maxDepth(tree_root)\n",
    "print(depth)  "
   ]
  },
  {
   "cell_type": "markdown",
   "id": "ec33337f",
   "metadata": {},
   "source": [
    "**Same Binary Tree**\n",
    "\n",
    "Given the roots of two binary trees p and q, return true if the trees are equivalent, otherwise return false.\n",
    "\n",
    "Two binary trees are considered equivalent if they share the exact same structure and the nodes have the same values.\n",
    "\n",
    "Example 1:\n",
    "Input: p = [1,2,3], q = [1,2,3]\n",
    "\n",
    "Output: true\n",
    "\n",
    "Example 2:\n",
    "\n",
    "\n",
    "\n",
    "Input: p = [4,7], q = [4,null,7]\n",
    "\n",
    "Output: false\n",
    "\n",
    "Example 3:\n",
    "Input: p = [1,2,3], q = [1,3,2]\n",
    "\n",
    "Output: false"
   ]
  },
  {
   "cell_type": "code",
   "execution_count": 7,
   "id": "dc78a494",
   "metadata": {},
   "outputs": [
    {
     "name": "stdout",
     "output_type": "stream",
     "text": [
      "False\n"
     ]
    }
   ],
   "source": [
    "class Solution:\n",
    "    def isSameTree(self, p: Optional[TreeNode], q: Optional[TreeNode]) -> bool:\n",
    "        if not p and not q:\n",
    "            return True\n",
    "        if not p or not q:\n",
    "            return False\n",
    "        if p.val == q.val and self.isSameTree(p.left,q.left) and self.isSameTree(p.right,q.right):\n",
    "            return True\n",
    "        else:\n",
    "            return False\n",
    "s = Solution()\n",
    "tree_root1 = create_binary_tree([1, 2, 3,4,7])\n",
    "tree_root2 = create_binary_tree([1, 2,4,7])\n",
    "depth = s.isSameTree(tree_root1,tree_root2)\n",
    "print(depth) "
   ]
  },
  {
   "cell_type": "code",
   "execution_count": 8,
   "id": "f3d22aa8",
   "metadata": {},
   "outputs": [
    {
     "name": "stdout",
     "output_type": "stream",
     "text": [
      "True\n"
     ]
    }
   ],
   "source": [
    "#iterative DFS using stack\n",
    "class Solution:\n",
    "    def isSameTree(self, p: Optional[TreeNode], q: Optional[TreeNode]) -> bool:\n",
    "        stack = [(p,q)]\n",
    "        while stack:\n",
    "            node1,node2 = stack.pop()\n",
    "\n",
    "            if not node1 and not node2:\n",
    "                continue\n",
    "            if not node1 or not node2 or node1.val != node2.val:\n",
    "                return False\n",
    "            stack.append((node1.right,node2.right))\n",
    "            stack.append((node1.left,node2.left))\n",
    "        return True\n",
    "\n",
    "s = Solution()\n",
    "tree_root1 = create_binary_tree([1, 2, 3,4,7])\n",
    "tree_root2 = create_binary_tree([1, 2,3,4,7])\n",
    "depth = s.isSameTree(tree_root1,tree_root2)\n",
    "print(depth) "
   ]
  },
  {
   "cell_type": "code",
   "execution_count": 9,
   "id": "d6122da8",
   "metadata": {},
   "outputs": [
    {
     "name": "stdout",
     "output_type": "stream",
     "text": [
      "True\n"
     ]
    }
   ],
   "source": [
    "#iterative BFS using queue\n",
    "class Solution:\n",
    "    def isSameTree(self, p: Optional[TreeNode], q: Optional[TreeNode]) -> bool:\n",
    "        queue = deque([(p,q)])\n",
    "        while queue:\n",
    "            nodep,nodeq = queue.popleft()\n",
    "            if not nodep and not nodeq:\n",
    "                continue\n",
    "            if not nodep or not nodeq or nodep.val != nodeq.val:\n",
    "                return False\n",
    "            queue.append((nodep.left,nodeq.left))\n",
    "            queue.append((nodep.right,nodeq.right))\n",
    "        return True\n",
    "s = Solution()\n",
    "tree_root1 = create_binary_tree([1,2,3])\n",
    "tree_root2 = create_binary_tree([1,2,3])\n",
    "same = s.isSameTree(tree_root1,tree_root2)\n",
    "print(same) "
   ]
  },
  {
   "cell_type": "markdown",
   "id": "f2dcb6dd",
   "metadata": {},
   "source": [
    "**Subtree of Another Tree**\n",
    "\n",
    "Given the roots of two binary trees root and subRoot, return true if there is a subtree of root with the same structure and node values of subRoot and false otherwise.\n",
    "\n",
    "A subtree of a binary tree tree is a tree that consists of a node in tree and all of this node's descendants. The tree tree could also be considered as a subtree of itself.\n",
    "\n",
    "Example 1:\n",
    "Input: root = [1,2,3,4,5], subRoot = [2,4,5]\n",
    "\n",
    "Output: true\n",
    "\n",
    "Example 2:\n",
    "Input: root = [1,2,3,4,5,null,null,6], subRoot = [2,4,5]\n",
    "\n",
    "Output: false"
   ]
  },
  {
   "cell_type": "code",
   "execution_count": 10,
   "id": "c311decf",
   "metadata": {},
   "outputs": [
    {
     "name": "stdout",
     "output_type": "stream",
     "text": [
      "True\n"
     ]
    }
   ],
   "source": [
    "class Solution:\n",
    "    def isSubtree(self,s,t):\n",
    "        if not t:\n",
    "            return True\n",
    "        if not s:\n",
    "            return False\n",
    "        if self.isSameTree(s,t):\n",
    "            return True\n",
    "        return (self.isSubtree(s.left,t) or self.isSubtree(s.right,t))\n",
    "    def isSameTree(self,s,t):\n",
    "        if not s and not t:\n",
    "            return True\n",
    "        if s and t and s.val == t.val:\n",
    "            return self.isSameTree(s.left,t.left) and self.isSameTree(s.right,t.right)\n",
    "\n",
    "s = Solution()\n",
    "tree_root1 = create_binary_tree([3,4,5,1,2])\n",
    "tree_root2 = create_binary_tree([4,1,2])\n",
    "same = s.isSubtree(tree_root1,tree_root2)\n",
    "print(same) "
   ]
  },
  {
   "cell_type": "markdown",
   "id": "9be4d975",
   "metadata": {},
   "source": [
    "**Lowest Common Ancestor in Binary Search Tree**\n",
    "\n",
    "Given a binary search tree (BST) where all node values are unique, and two nodes from the tree p and q, return the lowest common ancestor (LCA) of the two nodes.\n",
    "\n",
    "The lowest common ancestor between two nodes p and q is the lowest node in a tree T such that both p and q as descendants. The ancestor is allowed to be a descendant of itself.\n",
    "\n",
    "Example 1:\n",
    "\n",
    "Input: root = [5,3,8,1,4,7,9,null,2], p = 3, q = 8\n",
    "\n",
    "Output: 5\n",
    "\n",
    "Example 2:\n",
    "\n",
    "Input: root = [5,3,8,1,4,7,9,null,2], p = 3, q = 4\n",
    "\n",
    "Output: 3\n",
    "\n",
    "Explanation: The LCA of nodes 3 and 4 is 3, since a node can be a descendant of itself."
   ]
  },
  {
   "cell_type": "code",
   "execution_count": 11,
   "id": "1b087a0c",
   "metadata": {},
   "outputs": [],
   "source": [
    "# Helper function to find a node by its value\n",
    "def find_node_by_val(root, val):\n",
    "    if not root:\n",
    "        return None\n",
    "    if root.val == val:\n",
    "        return root\n",
    "    left_result = find_node_by_val(root.left, val)\n",
    "    if left_result:\n",
    "        return left_result\n",
    "    right_result = find_node_by_val(root.right, val)\n",
    "    if right_result:\n",
    "        return right_result"
   ]
  },
  {
   "cell_type": "code",
   "execution_count": 12,
   "id": "50e646bf",
   "metadata": {},
   "outputs": [
    {
     "name": "stdout",
     "output_type": "stream",
     "text": [
      "5\n"
     ]
    }
   ],
   "source": [
    "#iteration approach\n",
    "class solution:\n",
    "    def lowestCommonAncestor(self, root: TreeNode, p: TreeNode, q: TreeNode) -> TreeNode:\n",
    "        if not root:\n",
    "            return 0\n",
    "        cur = root\n",
    "        while cur:\n",
    "            if cur.val < p.val and cur.val < q.val:\n",
    "                cur = cur.right\n",
    "            elif cur.val> p.val and cur.val >  q.val:\n",
    "                cur = cur.left\n",
    "            else:\n",
    "                return cur\n",
    "s = solution()\n",
    "tree_root1 = create_binary_tree([5,3,8,1,4,7,9,2])\n",
    "p = find_node_by_val(tree_root1, 3)\n",
    "q = find_node_by_val(tree_root1, 8)\n",
    "lca = s.lowestCommonAncestor(tree_root1,p,q)\n",
    "print(lca.val)"
   ]
  },
  {
   "cell_type": "code",
   "execution_count": 13,
   "id": "006e3690",
   "metadata": {},
   "outputs": [
    {
     "name": "stdout",
     "output_type": "stream",
     "text": [
      "5\n"
     ]
    }
   ],
   "source": [
    "#recursion approach\n",
    "class solution:\n",
    "    def lowestCommonAncestor(self,root: TreeNode,p: TreeNode, q:TreeNode) -> TreeNode:\n",
    "        if not root or not p or not q:\n",
    "            return 0\n",
    "        \n",
    "        if (max(p.val,q.val) < root.val):\n",
    "            return self.lowestCommonAncestor(root.left,p,q)\n",
    "        elif (min(p.val,q.val)> root.val):\n",
    "            return self.lowestCommonAncestor(root.right,p,q)\n",
    "        else:\n",
    "            return root\n",
    "\n",
    "s = solution()\n",
    "tree_root1 = create_binary_tree([5,3,8,1,4,7,9,2])\n",
    "p = find_node_by_val(tree_root1, 3)\n",
    "q = find_node_by_val(tree_root1, 8)\n",
    "lca = s.lowestCommonAncestor(tree_root1,p,q)\n",
    "print(lca.val)"
   ]
  },
  {
   "cell_type": "markdown",
   "id": "05dcc258",
   "metadata": {},
   "source": [
    "**Binary Tree Level Order Traversal**\n",
    "\n",
    "Given a binary tree root, return the level order traversal of it as a nested list, where each sublist contains the values of nodes at a particular level in the tree, from left to right.\n",
    "\n",
    "Example 1:\n",
    "\n",
    "Input: root = [1,2,3,4,5,6,7]\n",
    "\n",
    "Output: [[1],[2,3],[4,5,6,7]]\n",
    "Example 2:\n",
    "\n",
    "Input: root = [1]\n",
    "\n",
    "Output: [[1]]\n",
    "Example 3:\n",
    "\n",
    "Input: root = []\n",
    "\n",
    "Output: []"
   ]
  },
  {
   "cell_type": "code",
   "execution_count": 14,
   "id": "bfb9163c",
   "metadata": {},
   "outputs": [
    {
     "name": "stdout",
     "output_type": "stream",
     "text": [
      "[[5], [3, 8], [1, 4, 7, 9], [2]]\n"
     ]
    }
   ],
   "source": [
    "import collections\n",
    "from typing import Optional, List\n",
    "class solution:\n",
    "    def levelOrder(self, root: Optional[TreeNode]) -> List[List[int]]:\n",
    "        if not root:\n",
    "            return []\n",
    "        res = []\n",
    "        q = collections.deque()\n",
    "        q.append(root)\n",
    "        while q:\n",
    "            level = []\n",
    "            for i in range(len(q)):\n",
    "                node = q.popleft()\n",
    "                if node:\n",
    "                    level.append(node.val)\n",
    "                    q.append(node.left)\n",
    "                    q.append(node.right)\n",
    "            if level:\n",
    "                res.append(level)\n",
    "        return res\n",
    "s = solution()\n",
    "tree_root1 = create_binary_tree([5,3,8,1,4,7,9,2])\n",
    "levelorder = s.levelOrder(tree_root1)\n",
    "print(levelorder)"
   ]
  },
  {
   "cell_type": "code",
   "execution_count": 15,
   "id": "364871c5",
   "metadata": {},
   "outputs": [
    {
     "name": "stdout",
     "output_type": "stream",
     "text": [
      "[[5], [3, 8], [1, 4, 7, 9], [2]]\n"
     ]
    }
   ],
   "source": [
    "class solution:\n",
    "    def levelOrder (self, root: Optional[TreeNode]) -> List[List[int]]:\n",
    "        res = []\n",
    "    \n",
    "        def dfs(node,depth):\n",
    "            if not node:\n",
    "                return None\n",
    "            if len(res) == depth:\n",
    "                res.append([])\n",
    "        \n",
    "            res[depth].append(node.val)\n",
    "            dfs(node.left,depth + 1)\n",
    "            dfs(node.right,depth + 1)\n",
    "        dfs(root,0)\n",
    "        return res\n",
    "s = solution()\n",
    "tree_root1 = create_binary_tree([5,3,8,1,4,7,9,2])\n",
    "levelorder = s.levelOrder(tree_root1)\n",
    "print(levelorder)\n"
   ]
  },
  {
   "cell_type": "markdown",
   "id": "f0d40c62",
   "metadata": {},
   "source": [
    "**Valid Binary Search Tree**\n",
    "\n",
    "Given the root of a binary tree, return true if it is a valid binary search tree, otherwise return false.\n",
    "\n",
    "A valid binary search tree satisfies the following constraints:\n",
    "\n",
    "The left subtree of every node contains only nodes with keys less than the node's key.\n",
    "The right subtree of every node contains only nodes with keys greater than the node's key.\n",
    "Both the left and right subtrees are also binary search trees.\n",
    "Example 1:\n",
    "\n",
    "Input: root = [2,1,3]\n",
    "\n",
    "Output: true\n",
    "Example 2:\n",
    "\n",
    "Input: root = [1,2,3]\n",
    "\n",
    "Output: false\n",
    "Explanation: The root node's value is 1 but its left child's value is 2 which is greater than 1."
   ]
  },
  {
   "cell_type": "code",
   "execution_count": 16,
   "id": "b71a26d5",
   "metadata": {},
   "outputs": [
    {
     "name": "stdout",
     "output_type": "stream",
     "text": [
      "True\n"
     ]
    }
   ],
   "source": [
    "class solution:\n",
    "    def isValidBST(self, root: Optional[TreeNode]) -> bool:\n",
    "        def valid(left,node,right):\n",
    "            if not node:\n",
    "                return True\n",
    "            if not left<node.val<right:\n",
    "                return False\n",
    "            return valid(left,node.left,node.val) and valid(node.val,node.right,right)\n",
    "        return valid(float('-inf'),root,float('+inf'))\n",
    "\n",
    "s = solution()\n",
    "tree_root1 = create_binary_tree([1,0,3])\n",
    "validBST = s.isValidBST(tree_root1)\n",
    "print(validBST)"
   ]
  },
  {
   "cell_type": "markdown",
   "id": "ed7cbaf4",
   "metadata": {},
   "source": [
    "**Kth Smallest Integer in BST**\n",
    "\n",
    "Given the root of a binary search tree, and an integer k, return the kth smallest value (1-indexed) in the tree.\n",
    "\n",
    "A binary search tree satisfies the following constraints:\n",
    "\n",
    "The left subtree of every node contains only nodes with keys less than the node's key.\n",
    "The right subtree of every node contains only nodes with keys greater than the node's key.\n",
    "Both the left and right subtrees are also binary search trees.\n",
    "Example 1:\n",
    "\n",
    "Input: root = [2,1,3], k = 1\n",
    "\n",
    "Output: 1\n",
    "\n",
    "Example 2:\n",
    "\n",
    "Input: root = [4,3,5,2,null], k = 4\n",
    "\n",
    "Output: 5"
   ]
  },
  {
   "cell_type": "code",
   "execution_count": 24,
   "id": "3e320255",
   "metadata": {},
   "outputs": [
    {
     "name": "stdout",
     "output_type": "stream",
     "text": [
      "1\n"
     ]
    }
   ],
   "source": [
    "#dfs with onorder traversal approach\n",
    "class Solution:\n",
    "    def kthSmallest(self, root: Optional[TreeNode], k: int) -> int:\n",
    "        arr = []\n",
    "        def dfs(node):\n",
    "            if not node:\n",
    "                return None\n",
    "            dfs(node.left)\n",
    "            arr.append(node.val)\n",
    "            dfs(node.right)\n",
    "        dfs(root)\n",
    "        return arr[k-1]\n",
    "\n",
    "s = Solution()\n",
    "tree_root1 = create_binary_tree([2,1,3])\n",
    "validBST = s.kthSmallest(tree_root1,1)\n",
    "print(validBST)"
   ]
  },
  {
   "cell_type": "code",
   "execution_count": 25,
   "id": "0f8c3dcb",
   "metadata": {},
   "outputs": [
    {
     "name": "stdout",
     "output_type": "stream",
     "text": [
      "2\n"
     ]
    }
   ],
   "source": [
    "#dfs with stack approach\n",
    "class Solution:\n",
    "    def kthSmallest(self, root: Optional[TreeNode], k: int) -> int:\n",
    "        n = 0\n",
    "        stack = []\n",
    "        cur = root\n",
    "        while cur or stack:\n",
    "            while cur:\n",
    "                stack.append(cur)\n",
    "                cur = cur.left\n",
    "            cur = stack.pop()\n",
    "            n += 1\n",
    "            if n == k:\n",
    "                return cur.val\n",
    "            cur = cur.right\n",
    "\n",
    "s = Solution()\n",
    "tree_root1 = create_binary_tree([2,1,3])\n",
    "validBST = s.kthSmallest(tree_root1,2)\n",
    "print(validBST)"
   ]
  },
  {
   "cell_type": "markdown",
   "id": "dc3cd633",
   "metadata": {},
   "source": [
    "**Construct Binary Tree from Preorder and Inorder Traversal**\n",
    "\n",
    "You are given two integer arrays preorder and inorder.\n",
    "\n",
    "preorder is the preorder traversal of a binary tree\n",
    "inorder is the inorder traversal of the same tree\n",
    "Both arrays are of the same size and consist of unique values.\n",
    "Rebuild the binary tree from the preorder and inorder traversals and return its root.\n",
    "\n",
    "Example 1:\n",
    "\n",
    "Input: preorder = [1,2,3,4], inorder = [2,1,3,4]\n",
    "\n",
    "Output: [1,2,3,null,null,null,4]\n",
    "\n",
    "Example 2:\n",
    "\n",
    "Input: preorder = [1], inorder = [1]\n",
    "\n",
    "Output: [1]"
   ]
  },
  {
   "cell_type": "code",
   "execution_count": 42,
   "id": "575ea6bd",
   "metadata": {},
   "outputs": [],
   "source": [
    "import collections\n",
    "from typing import Optional, List\n",
    "\n",
    "class TreeNode:\n",
    "    def __init__(self, val=0, left=None, right=None):\n",
    "        self.val = val\n",
    "        self.left = left\n",
    "        self.right = right\n",
    "# Add this helper function to print the tree in level order\n",
    "\n",
    "def get_level_order_list(root: Optional[TreeNode]) -> List[Optional[int]]:\n",
    "    if not root:\n",
    "        return []\n",
    "        \n",
    "    result = []\n",
    "    queue = collections.deque([root])\n",
    "        \n",
    "    while queue:\n",
    "        node = queue.popleft()\n",
    "            \n",
    "        if node:\n",
    "            result.append(node.val)\n",
    "            queue.append(node.left)\n",
    "            queue.append(node.right)\n",
    "        else:\n",
    "            result.append(None)\n",
    "                \n",
    "        # This part removes trailing None values to match the LeetCode format\n",
    "    while result and result[-1] is None:\n",
    "        result.pop()\n",
    "            \n",
    "    return result"
   ]
  },
  {
   "cell_type": "code",
   "execution_count": 43,
   "id": "c561dc81",
   "metadata": {},
   "outputs": [
    {
     "name": "stdout",
     "output_type": "stream",
     "text": [
      "[1, 2, 3, None, None, None, 4]\n"
     ]
    }
   ],
   "source": [
    "class Solution:\n",
    "    \n",
    "    \n",
    "    def buildTree(self, preorder: List[int], inorder: List[int]) -> Optional[TreeNode]:\n",
    "        if not inorder or not preorder:\n",
    "            return  None\n",
    "        \n",
    "        root = TreeNode(preorder[0])\n",
    "        mid = inorder.index(preorder[0])\n",
    "\n",
    "        root.left = self.buildTree(preorder[1:mid + 1],inorder[:mid])\n",
    "        root.right = self.buildTree(preorder[mid + 1:],inorder[mid+ 1:])\n",
    "        return root\n",
    "\n",
    "s = Solution()\n",
    "bt = s.buildTree([1,2,3,4],[2,1,3,4])\n",
    "level_order_traversal = get_level_order_list(bt)\n",
    "print(level_order_traversal)"
   ]
  },
  {
   "cell_type": "code",
   "execution_count": null,
   "id": "b4764638",
   "metadata": {},
   "outputs": [],
   "source": []
  }
 ],
 "metadata": {
  "kernelspec": {
   "display_name": "Python 3",
   "language": "python",
   "name": "python3"
  },
  "language_info": {
   "codemirror_mode": {
    "name": "ipython",
    "version": 3
   },
   "file_extension": ".py",
   "mimetype": "text/x-python",
   "name": "python",
   "nbconvert_exporter": "python",
   "pygments_lexer": "ipython3",
   "version": "3.10.0"
  }
 },
 "nbformat": 4,
 "nbformat_minor": 5
}
