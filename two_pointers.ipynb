{
 "cells": [
  {
   "cell_type": "markdown",
   "id": "2340cde7",
   "metadata": {},
   "source": [
    "**Valid Palindrome**\n",
    "\n",
    "Given a string s, return true if it is a palindrome, otherwise return false.\n",
    "\n",
    "A palindrome is a string that reads the same forward and backward. It is also case-insensitive and ignores all non-alphanumeric characters.\n",
    "\n",
    "Note: Alphanumeric characters consist of letters (A-Z, a-z) and numbers (0-9).\n",
    "\n",
    "Example 1:\n",
    "\n",
    "Input: s = \"Was it a car or a cat I saw?\"\n",
    "\n",
    "Output: true\n",
    "Explanation: After considering only alphanumerical characters we have \"wasitacaroracatisaw\", which is a palindrome.\n",
    "\n",
    "Example 2:"
   ]
  },
  {
   "cell_type": "code",
   "execution_count": 21,
   "id": "57a5446f",
   "metadata": {},
   "outputs": [
    {
     "data": {
      "text/plain": [
       "False"
      ]
     },
     "execution_count": 21,
     "metadata": {},
     "output_type": "execute_result"
    }
   ],
   "source": [
    "#using 2 pointer approach\n",
    "def reverse(s):\n",
    "    i = 0\n",
    "    j = len(s)-1\n",
    "    while(i<j):\n",
    "        s[i],s[j] = s[j],s[i]\n",
    "        i +=1\n",
    "        j-= 1\n",
    "    return s\n",
    "def palindrome(s):\n",
    "    newStr = \"\"\n",
    "    for c in s:\n",
    "        if c.isalnum():\n",
    "            newStr += c.lower()\n",
    "    #print(newStr)\n",
    "    original_list = list(newStr)\n",
    "    list_for_reversal = list(original_list)\n",
    "    reversedlist = reverse(list_for_reversal)\n",
    "    if original_list == reversedlist:\n",
    "        return True\n",
    "    else:   \n",
    "        return False\n",
    "palindrome(\"Acdc!ba\") #time complexity O(n) + O(n)\n"
   ]
  },
  {
   "cell_type": "code",
   "execution_count": 22,
   "id": "3450d242",
   "metadata": {},
   "outputs": [
    {
     "data": {
      "text/plain": [
       "False"
      ]
     },
     "execution_count": 22,
     "metadata": {},
     "output_type": "execute_result"
    }
   ],
   "source": [
    "#pythonic way\n",
    "def isPalindrome(s):\n",
    "    newstr = \"\"\n",
    "    for c in s:\n",
    "        if c.isalnum():\n",
    "            newstr += c.lower()\n",
    "    return newstr == newstr[::-1]  # This checks if the string is equal to its reverse\n",
    "isPalindrome(\"Acdcba\")  # time complexity O(n) + O(n)"
   ]
  },
  {
   "cell_type": "markdown",
   "id": "ebaf4ea5",
   "metadata": {},
   "source": [
    "**Two Integer Sum II**\n",
    "\n",
    "Given an array of integers numbers that is sorted in non-decreasing order.\n",
    "\n",
    "Return the indices (1-indexed) of two numbers, [index1, index2], such that they add up to a given target number target and index1 < index2. Note that index1 and index2 cannot be equal, therefore you may not use the same element twice.\n",
    "\n",
    "There will always be exactly one valid solution.\n",
    "\n",
    "Your solution must use \n",
    "O\n",
    "(\n",
    "1\n",
    ")\n",
    "O(1) additional space.\n",
    "\n",
    "Example 1:\n",
    "\n",
    "Input: numbers = [1,2,3,4], target = 3\n",
    "\n",
    "Output: [1,2]\n",
    "Explanation:\n",
    "The sum of 1 and 2 is 3. Since we are assuming a 1-indexed array, index1 = 1, index2 = 2. We return [1, 2]."
   ]
  },
  {
   "cell_type": "code",
   "execution_count": 23,
   "id": "2b54d350",
   "metadata": {},
   "outputs": [
    {
     "data": {
      "text/plain": [
       "[3, 4]"
      ]
     },
     "execution_count": 23,
     "metadata": {},
     "output_type": "execute_result"
    }
   ],
   "source": [
    "#with two pointer appraoch, when the array is sorted.\n",
    "def twoSum(nums,target):\n",
    "    i = 0\n",
    "    j = len(nums)-1\n",
    "    for i in range(len(nums)):\n",
    "        while (i<=j):\n",
    "            if nums[i] + nums[j] < target:\n",
    "                i += 1\n",
    "            elif nums[i] + nums[j]  == target:\n",
    "                return [i+1,j+1]\n",
    "            elif nums[i] + nums[j] > target:\n",
    "                j -= 1\n",
    "    return []\n",
    "twoSum([1,3,4,5,7,10,11],9)\n"
   ]
  },
  {
   "cell_type": "code",
   "execution_count": 24,
   "id": "8cf1ca90",
   "metadata": {},
   "outputs": [
    {
     "data": {
      "text/plain": [
       "[3, 4]"
      ]
     },
     "execution_count": 24,
     "metadata": {},
     "output_type": "execute_result"
    }
   ],
   "source": [
    "#using hash map\n",
    "from collections import defaultdict\n",
    "def twoSum(nums, target):\n",
    "    mp = defaultdict(int)\n",
    "    for i in range(len(nums)):\n",
    "        diff = target -nums[i]\n",
    "        if diff in mp:\n",
    "            return [mp[diff],i+1]\n",
    "        mp[nums[i]] = i+1\n",
    "twoSum([1,3,4,5,7,10,11],9)# time complexity O(n) "
   ]
  },
  {
   "cell_type": "markdown",
   "id": "aa0b81ec",
   "metadata": {},
   "source": [
    "**3 Sum**\n",
    "\n",
    "Given an integer array nums, return all the triplets [nums[i], nums[j], nums[k]] where nums[i] + nums[j] + nums[k] == 0, and the indices i, j and k are all distinct.\n",
    "\n",
    "The output should not contain any duplicate triplets. You may return the output and the triplets in any order.\n",
    "\n",
    "Example 1:\n",
    "\n",
    "Input: nums = [-1,0,1,2,-1,-4]\n",
    "\n",
    "Output: [[-1,-1,2],[-1,0,1]]"
   ]
  },
  {
   "cell_type": "code",
   "execution_count": 25,
   "id": "7b2dcb1a",
   "metadata": {},
   "outputs": [
    {
     "data": {
      "text/plain": [
       "[[-1, 0, 1]]"
      ]
     },
     "execution_count": 25,
     "metadata": {},
     "output_type": "execute_result"
    }
   ],
   "source": [
    "#this method is used to find triplets in an array that sum to zero\n",
    "#it uses a two pointer approach after sorting the array\n",
    "def threeSum(num): \n",
    "    num = sorted(num) #O(nlogn)\n",
    "    res = []\n",
    "    for i in range(len(num)):\n",
    "        if i > 0 and num[i] == num[i-1]:  # skip duplicates\n",
    "            continue\n",
    "        l = i+1\n",
    "        r = len(num)-1\n",
    "        while l < r:\n",
    "            sum = num[i] + num[l] + num[r]\n",
    "            if sum < 0:\n",
    "                l += 1\n",
    "            elif sum > 0:\n",
    "                r -= 1\n",
    "            else:\n",
    "                res.append([num[i], num[l], num[r]])\n",
    "                l += 1\n",
    "                r -= 1\n",
    "                while l < r and num[l] == num[l-1]: #skip duplicates for 2nd element\n",
    "                    l += 1\n",
    "                while l < r and num[r] == num[r+1]: #skip duplicates for 3rd element\n",
    "                    r -= 1\n",
    "    return res\n",
    "threeSum([-1,-1,0,1,1])  # time complexity O(nlogn) + O(n^2) for for and while loop nested inside it"
   ]
  },
  {
   "cell_type": "code",
   "execution_count": 26,
   "id": "19d557cb",
   "metadata": {},
   "outputs": [
    {
     "name": "stdout",
     "output_type": "stream",
     "text": [
      "[[-1, 0, 1], [-1, -1, 2]]\n",
      "[[0, 0, 0]]\n",
      "[]\n",
      "[[-2, 0, 2]]\n",
      "[[-1, 0, 1], [-1, -1, 2]]\n"
     ]
    }
   ],
   "source": [
    "def threeSum_hashset(nums):\n",
    "    res = set() # Use a set to automatically handle unique triplets\n",
    "    nums.sort() # Sorting is crucial here too for unique triplets if storing as tuples\n",
    "\n",
    "    # We iterate through 'i' as the first element\n",
    "    for i in range(len(nums)):\n",
    "        # To avoid duplicate triplets with the first element 'nums[i]'\n",
    "        # This is more robust than relying solely on the final set conversion.\n",
    "        if i > 0 and nums[i] == nums[i-1]:\n",
    "            continue\n",
    "\n",
    "        seen = set() # Hash set to store numbers encountered so far in the inner loop\n",
    "                     # along with a target complement for the current 'i'\n",
    "        target_for_pair = -nums[i] # We need num[l] + num[r] == -num[i]\n",
    "\n",
    "        # Iterate through 'j' as the second element, starting after 'i'\n",
    "        for j in range(i + 1, len(nums)):\n",
    "            complement = target_for_pair - nums[j] # This is the third number we need\n",
    "\n",
    "            if complement in seen:\n",
    "                # Found a triplet! Add it to the result set.\n",
    "                # Convert to a tuple because lists are not hashable (cannot be added to a set)\n",
    "                res.add(tuple(sorted((nums[i], nums[j], complement))))\n",
    "                \n",
    "                # After finding a triplet, we could potentially add more duplicate skipping here\n",
    "                # for 'j' to optimize, but the `set` at the end handles uniqueness.\n",
    "                # For optimal performance, you'd add:\n",
    "                # while j + 1 < len(nums) and nums[j] == nums[j+1]:\n",
    "                #    j += 1 # Skip duplicates for j\n",
    "            \n",
    "            seen.add(nums[j]) # Add the current number to the hash set for future lookups\n",
    "                               # for the current 'i'\n",
    "\n",
    "    # Convert the set of tuples back to a list of lists for the final result\n",
    "    return [list(t) for t in res]\n",
    "\n",
    "# Test cases\n",
    "print(threeSum_hashset([-1, 0, 1, 2, -1, -4]))\n",
    "print(threeSum_hashset([0, 0, 0]))\n",
    "print(threeSum_hashset([0, 1, 1]))\n",
    "print(threeSum_hashset([-2, 0, 0, 2, 2]))\n",
    "print(threeSum_hashset([-1,-1,0,1,1,2,4,3]))"
   ]
  },
  {
   "cell_type": "markdown",
   "id": "8dd86480",
   "metadata": {},
   "source": [
    "**Container With Most Water**\n",
    "\n",
    "You are given an integer array heights where heights[i] represents the height of the \n",
    "ith bar.\n",
    "\n",
    "You may choose any two bars to form a container. Return the maximum amount of water a container can store.\n",
    "\n",
    "Example 1:\n",
    "Input: height = [1,7,2,5,4,7,3,6]\n",
    "Output: 36\n",
    "\n",
    "Example 2:\n",
    "Input: height = [2,2,2]\n",
    "Output: 4"
   ]
  },
  {
   "cell_type": "code",
   "execution_count": 1,
   "id": "7258233e",
   "metadata": {},
   "outputs": [
    {
     "data": {
      "text/plain": [
       "12"
      ]
     },
     "execution_count": 1,
     "metadata": {},
     "output_type": "execute_result"
    }
   ],
   "source": [
    "#brute force approach\n",
    "def maxArea(height):\n",
    "    res  = 0\n",
    "    for i in range(len(height)):\n",
    "        for j in range(i+1,len(height)):\n",
    "            length = min(height[i],height[j])\n",
    "            breadth = j - i\n",
    "            area = length * breadth\n",
    "            res = max(area,res)\n",
    "    return res\n",
    "maxArea([1,7,2,5,4]) #time complexity O(n^2)"
   ]
  },
  {
   "cell_type": "code",
   "execution_count": 28,
   "id": "d90c49e5",
   "metadata": {},
   "outputs": [
    {
     "data": {
      "text/plain": [
       "36"
      ]
     },
     "execution_count": 28,
     "metadata": {},
     "output_type": "execute_result"
    }
   ],
   "source": [
    "#let's use 2 pointer approach with time complexity is O(n)\n",
    "def maxArea(height):\n",
    "    res = 0\n",
    "    l = 0\n",
    "    r = len(height)-1\n",
    "    while (l<r):\n",
    "        length = min(height[l],height[r])\n",
    "        breadth = r - l\n",
    "        area = length * breadth\n",
    "        res = max(area,res)\n",
    "        if height[l] > height [r]:\n",
    "            r -= 1\n",
    "        else:\n",
    "            l += 1\n",
    "    return res\n",
    "maxArea([1,7,2,5,4,7,3,6]) \n"
   ]
  },
  {
   "cell_type": "markdown",
   "id": "24aa6f48",
   "metadata": {},
   "source": [
    "**Trapping Rain Water**\n",
    "\n",
    "You are given an array of non-negative integers height which represent an elevation map. Each value height[i] represents the height of a bar, which has a width of 1.\n",
    "\n",
    "Return the maximum area of water that can be trapped between the bars.\n",
    "\n",
    "Input: height = [0,2,0,3,1,0,1,3,2,1]\n",
    "\n",
    "Output: 9"
   ]
  },
  {
   "cell_type": "code",
   "execution_count": 2,
   "id": "f499c081",
   "metadata": {},
   "outputs": [
    {
     "data": {
      "text/plain": [
       "9"
      ]
     },
     "execution_count": 2,
     "metadata": {},
     "output_type": "execute_result"
    }
   ],
   "source": [
    "def trap(height):\n",
    "    if not height:\n",
    "        return 0\n",
    "\n",
    "    n = len(height)\n",
    "    max_left = [0] * n\n",
    "    max_right = [0] * n\n",
    "    total_water = 0\n",
    "\n",
    "    # Step 1: Calculate max_left array\n",
    "    max_left[0] = height[0]\n",
    "    for i in range(1, n):\n",
    "        max_left[i] = max(max_left[i-1], height[i])\n",
    "\n",
    "    # Step 2: Calculate max_right array\n",
    "    max_right[n-1] = height[n-1]\n",
    "    for i in range(n-2, -1, -1):\n",
    "        max_right[i] = max(max_right[i+1], height[i])\n",
    "\n",
    "    # Step 3: Calculate trapped water\n",
    "    for i in range(n):\n",
    "        trapped_at_i = min(max_left[i], max_right[i]) - height[i]\n",
    "        if trapped_at_i > 0:\n",
    "            total_water += trapped_at_i\n",
    "            \n",
    "    return total_water\n",
    "trap([2,0,3,1,0,1,3])"
   ]
  },
  {
   "cell_type": "code",
   "execution_count": null,
   "id": "69c9c091",
   "metadata": {},
   "outputs": [
    {
     "data": {
      "text/plain": [
       "9"
      ]
     },
     "execution_count": 15,
     "metadata": {},
     "output_type": "execute_result"
    }
   ],
   "source": [
    "#2 pointer approach\n",
    "def trap(height):\n",
    "    l,r = 0,len(height)-1\n",
    "    leftmax,rightmax  = height[l],height[r]\n",
    "    res = 0\n",
    "    while(l<r):\n",
    "        if leftmax < rightmax:\n",
    "            l +=1 \n",
    "            leftmax = max(leftmax,height[l])\n",
    "            res += leftmax - height[l]\n",
    "\n",
    "        else:\n",
    "            r -= 1\n",
    "            rightmax = max(rightmax,height[r])\n",
    "            res += rightmax - height[r]\n",
    "    return res\n",
    "trap([0,2,0,3,1,0,1,3,2,1])"
   ]
  },
  {
   "cell_type": "markdown",
   "id": "37af0503",
   "metadata": {},
   "source": [
    "**Best Time to Buy and Sell Stock**\n",
    "\n",
    "You are given an integer array prices where prices[i] is the price of NeetCoin on the ith day.\n",
    "\n",
    "You may choose a single day to buy one NeetCoin and choose a different day in the future to sell it.\n",
    "\n",
    "Return the maximum profit you can achieve. You may choose to not make any transactions, in which case the profit would be 0.\n",
    "\n",
    "Example 1:\n",
    "\n",
    "Input: prices = [10,1,5,6,7,1]\n",
    "\n",
    "Output: 6\n",
    "Explanation: Buy prices[1] and sell prices[4], profit = 7 - 1 = 6.\n",
    "\n",
    "Example 2:\n",
    "\n",
    "Input: prices = [10,8,7,5,2]\n",
    "\n",
    "Output: 0\n",
    "Explanation: No profitable transactions can be made, thus the max profit is 0."
   ]
  },
  {
   "cell_type": "code",
   "execution_count": null,
   "id": "fc801dd4",
   "metadata": {},
   "outputs": [
    {
     "data": {
      "text/plain": [
       "6"
      ]
     },
     "execution_count": 16,
     "metadata": {},
     "output_type": "execute_result"
    }
   ],
   "source": [
    "#brute force solution with time complexity O(n^2)\n",
    "def maxProfit(prices):\n",
    "    profit = 0\n",
    "    for i in range(len(prices)):\n",
    "        for j in range(i+1,len(prices)):\n",
    "            profit = max(profit,(prices[j]-prices[i]))\n",
    "    return profit\n",
    "\n",
    "maxProfit([10,1,5,6,7,1])"
   ]
  },
  {
   "cell_type": "code",
   "execution_count": null,
   "id": "2265ad87",
   "metadata": {},
   "outputs": [
    {
     "data": {
      "text/plain": [
       "7"
      ]
     },
     "execution_count": 17,
     "metadata": {},
     "output_type": "execute_result"
    }
   ],
   "source": [
    "#using 2 pointers time complexity  O(n)\n",
    "def maxProfit(prices):\n",
    "    l,r = 0,1\n",
    "    profit = 0\n",
    "    while r < len(prices):\n",
    "        if prices[l]< prices[r]:\n",
    "            profit = max(profit,(prices[r] - prices[l]))\n",
    "        else:\n",
    "            l =r\n",
    "        r +=1\n",
    "    return profit\n",
    "maxProfit([10,1,5,6,7,1,8])"
   ]
  }
 ],
 "metadata": {
  "kernelspec": {
   "display_name": "Python 3",
   "language": "python",
   "name": "python3"
  },
  "language_info": {
   "codemirror_mode": {
    "name": "ipython",
    "version": 3
   },
   "file_extension": ".py",
   "mimetype": "text/x-python",
   "name": "python",
   "nbconvert_exporter": "python",
   "pygments_lexer": "ipython3",
   "version": "3.10.0"
  }
 },
 "nbformat": 4,
 "nbformat_minor": 5
}
