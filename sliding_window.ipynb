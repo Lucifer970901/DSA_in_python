{
 "cells": [
  {
   "cell_type": "markdown",
   "id": "15d908c5",
   "metadata": {},
   "source": [
    "**Longest Substring Without Repeating Characters**\n",
    "\n",
    "Given a string s, find the length of the longest substring without duplicate characters.\n",
    "\n",
    "A substring is a contiguous sequence of characters within a string.\n",
    "\n",
    "Example 1:\n",
    "\n",
    "Input: s = \"zxyzxyz\"\n",
    "\n",
    "Output: 3\n",
    "Explanation: The string \"xyz\" is the longest without duplicate characters.\n",
    "\n",
    "Example 2:\n",
    "\n",
    "Input: s = \"xxxx\"\n",
    "\n",
    "Output: 1"
   ]
  },
  {
   "cell_type": "code",
   "execution_count": 1,
   "id": "e7b374b1",
   "metadata": {},
   "outputs": [
    {
     "data": {
      "text/plain": [
       "3"
      ]
     },
     "execution_count": 1,
     "metadata": {},
     "output_type": "execute_result"
    }
   ],
   "source": [
    "#using hashset, but is not taking the substrings into consideration\n",
    "def lengthOfLongestSubstring(s):\n",
    "    sets = set(s)\n",
    "    return len(sets)\n",
    "lengthOfLongestSubstring('zzxyzxyz')"
   ]
  },
  {
   "cell_type": "code",
   "execution_count": 2,
   "id": "60be575c",
   "metadata": {},
   "outputs": [
    {
     "data": {
      "text/plain": [
       "7"
      ]
     },
     "execution_count": 2,
     "metadata": {},
     "output_type": "execute_result"
    }
   ],
   "source": [
    "#using sliding window algorithm #O(n)\n",
    "def lengthOfLongestSubstring(s):\n",
    "    res = 0\n",
    "    l = 0\n",
    "    charset = set()\n",
    "    for r in range(len(s)):\n",
    "        while s[r] in charset:\n",
    "            charset.remove(s[l])\n",
    "            l += 1\n",
    "        charset.add(s[r])\n",
    "        res =  max(res,len(charset))\n",
    "    return res\n",
    "    \n",
    "lengthOfLongestSubstring('geeksforgeeks')"
   ]
  },
  {
   "cell_type": "code",
   "execution_count": 3,
   "id": "5dd7933e",
   "metadata": {},
   "outputs": [
    {
     "data": {
      "text/plain": [
       "3"
      ]
     },
     "execution_count": 3,
     "metadata": {},
     "output_type": "execute_result"
    }
   ],
   "source": [
    "#sliding window optimal\n",
    "def lengthOfLongestSubstring(s):\n",
    "    mp = {}\n",
    "    l = 0\n",
    "    res = 0\n",
    "\n",
    "    for r in range(len(s)):\n",
    "        if s[r] in mp:\n",
    "            l = max(mp[s[r]] + 1, l)\n",
    "        mp[s[r]] = r\n",
    "        res = max(res, r - l + 1)\n",
    "    return res\n",
    "lengthOfLongestSubstring('abcabcbb')"
   ]
  },
  {
   "cell_type": "markdown",
   "id": "9e00a618",
   "metadata": {},
   "source": [
    "**Longest Repeating Character Replacement**\n",
    "\n",
    "You are given a string s consisting of only uppercase english characters and an integer k. You can choose up to k characters of the string and replace them with any other uppercase English character.\n",
    "\n",
    "After performing at most k replacements, return the length of the longest substring which contains only one distinct character.\n",
    "\n",
    "Example 1:\n",
    "\n",
    "Input: s = \"XYYX\", k = 2\n",
    "\n",
    "Output: 4\n",
    "Explanation: Either replace the 'X's with 'Y's, or replace the 'Y's with 'X's.\n",
    "\n",
    "Example 2:\n",
    "\n",
    "Input: s = \"AAABABB\", k = 1\n",
    "\n",
    "Output: 5"
   ]
  },
  {
   "cell_type": "code",
   "execution_count": 1,
   "id": "ca4c602c",
   "metadata": {},
   "outputs": [
    {
     "data": {
      "text/plain": [
       "5"
      ]
     },
     "execution_count": 1,
     "metadata": {},
     "output_type": "execute_result"
    }
   ],
   "source": [
    "def characterReplacement(s,k):\n",
    "    count = {}\n",
    "    l,res = 0,0\n",
    "    for r in range(len(s)):\n",
    "        count[s[r]] = 1+count.get(s[r],0)\n",
    "        while(r-l+1) - max(count.values()) > k:\n",
    "            count[s[l]] -= 1\n",
    "            l +=1\n",
    "        res = max(res,r-l+1)\n",
    "    return res\n",
    "characterReplacement('AAABABB',1)"
   ]
  },
  {
   "cell_type": "code",
   "execution_count": null,
   "id": "50df2922",
   "metadata": {},
   "outputs": [
    {
     "data": {
      "text/plain": [
       "5"
      ]
     },
     "execution_count": 2,
     "metadata": {},
     "output_type": "execute_result"
    }
   ],
   "source": [
    "def characterReplacement(s,k):\n",
    "    count,l,res,maxf = {},0,0,0\n",
    "    for r in range(len(s)):\n",
    "        count[s[r]] = 1+ count.get(s[r],0)\n",
    "        maxf = max(maxf,count[s[r]]) #this reduces the overhead of looking into entire dictionary so space complexity O(1)\n",
    "        while(r-l+1) - maxf > k:\n",
    "            count[s[l]] -= 1\n",
    "            l+=1\n",
    "        res = max(res,r-l+1)\n",
    "    return res\n",
    "\n",
    "characterReplacement('AAABABB',1)"
   ]
  },
  {
   "cell_type": "markdown",
   "id": "e3788b2c",
   "metadata": {},
   "source": [
    "**Permutation in String**\n",
    "\n",
    "You are given two strings s1 and s2.\n",
    "\n",
    "Return true if s2 contains a permutation of s1, or false otherwise. That means if a permutation of s1 exists as a substring of s2, then return true.\n",
    "\n",
    "Both strings only contain lowercase letters.\n",
    "\n",
    "Example 1:\n",
    "\n",
    "Input: s1 = \"abc\", s2 = \"lecabee\"\n",
    "\n",
    "Output: true\n",
    "Explanation: The substring \"cab\" is a permutation of \"abc\" and is present in \"lecabee\".\n",
    "\n",
    "Example 2:\n",
    "\n",
    "Input: s1 = \"abc\", s2 = \"lecaabee\"\n",
    "\n",
    "Output: false"
   ]
  },
  {
   "cell_type": "code",
   "execution_count": null,
   "id": "730c720e",
   "metadata": {},
   "outputs": [],
   "source": []
  },
  {
   "cell_type": "markdown",
   "id": "8ea5c76f",
   "metadata": {},
   "source": [
    "**Minimum Window Substring**\n",
    "\n",
    "Given two strings s and t, return the shortest substring of s such that every character in t, including duplicates, is present in the substring. If such a substring does not exist, return an empty string \"\".\n",
    "\n",
    "You may assume that the correct output is always unique.\n",
    "\n",
    "Example 1:\n",
    "\n",
    "Input: s = \"OUZODYXAZV\", t = \"XYZ\"\n",
    "\n",
    "Output: \"YXAZ\"\n",
    "Explanation: \"YXAZ\" is the shortest substring that includes \"X\", \"Y\", and \"Z\" from string t.\n",
    "\n",
    "Example 2:\n",
    "\n",
    "Input: s = \"xyz\", t = \"xyz\"\n",
    "\n",
    "Output: \"xyz\"\n",
    "Example 3:\n",
    "\n",
    "Input: s = \"x\", t = \"xy\"\n",
    "\n",
    "Output: \"\""
   ]
  },
  {
   "cell_type": "code",
   "execution_count": 9,
   "id": "2f318630",
   "metadata": {},
   "outputs": [
    {
     "data": {
      "text/plain": [
       "'YXAZ'"
      ]
     },
     "execution_count": 9,
     "metadata": {},
     "output_type": "execute_result"
    }
   ],
   "source": [
    "\n",
    "def minWindow(s,t):\n",
    "    if t  == \"\": return \"\"\n",
    "    countT,window = {},{}\n",
    "        \n",
    "    for c in t:\n",
    "        countT[c]  = 1+ countT.get(c,0)\n",
    "        \n",
    "    have,need = 0,len(countT)\n",
    "    res,reslen = [-1,-1],float('inf')\n",
    "    l = 0\n",
    "\n",
    "    for r in range(len(s)):\n",
    "        c = s[r]\n",
    "        window[c] = 1+window.get(c,0)\n",
    "\n",
    "        if c in countT and window[c] == countT[c]:\n",
    "            have += 1\n",
    "\n",
    "        while have == need:\n",
    "            #update the result\n",
    "            if (r-l+1) < reslen:\n",
    "                res = [l,r]\n",
    "                reslen = (r-l+1)\n",
    "            #shrink the window, pop from left\n",
    "            window[s[l]] -=1\n",
    "            if s[l] in countT and window[s[l]] < countT[s[l]]:\n",
    "                have -=1\n",
    "            l += 1\n",
    "    l,r  = res\n",
    "    return s[l:r+1] if reslen != float('inf') else \"\"\n",
    "\n",
    "minWindow(\"OUZODYXAZV\",\"XYZ\")"
   ]
  },
  {
   "cell_type": "code",
   "execution_count": 10,
   "id": "d94a79d3",
   "metadata": {},
   "outputs": [
    {
     "data": {
      "text/plain": [
       "'YXAZ'"
      ]
     },
     "execution_count": 10,
     "metadata": {},
     "output_type": "execute_result"
    }
   ],
   "source": [
    "def minwindow(s,t):\n",
    "    if t == \"\": return \"\"\n",
    "\n",
    "    countT,window = {},{}\n",
    "\n",
    "    for c in t:\n",
    "        countT[c] = 1 + countT.get(c,0)\n",
    "\n",
    "    res,reslen = [-1,-1],float('inf')\n",
    "    l=0\n",
    "    have,need = 0,len(countT)\n",
    "\n",
    "    for r in range(len(s)):\n",
    "        window[s[r]] = 1+ window.get(s[r],0)\n",
    "        \n",
    "        if s[r] in countT and countT[s[r]] == window[s[r]]:\n",
    "            have += 1\n",
    "\n",
    "            while have == need:\n",
    "                #update the result\n",
    "                if r-l+1 < reslen:\n",
    "                    res = [l,r]\n",
    "                    reslen = r-l+1\n",
    "                \n",
    "                #pop from the left, to shrink the window\n",
    "                window[s[l]] -= 1\n",
    "                if s[l] in countT and  window[s[l]] < countT[s[l]]:\n",
    "                    have -= 1\n",
    "                l += 1\n",
    "    l,r = res\n",
    "    return s[l:r+1] if reslen != float('inf') else \"\"\n",
    "\n",
    "minwindow(\"OUZODYXAZV\",\"XYZ\")"
   ]
  },
  {
   "cell_type": "code",
   "execution_count": 11,
   "id": "cefdcaee",
   "metadata": {},
   "outputs": [
    {
     "data": {
      "text/plain": [
       "'YXAZ'"
      ]
     },
     "execution_count": 11,
     "metadata": {},
     "output_type": "execute_result"
    }
   ],
   "source": [
    "def minwindow(s, t):\n",
    "    if not t:\n",
    "        return \"\"\n",
    "\n",
    "    counts = {}\n",
    "    for char in t:\n",
    "        counts[char] = counts.get(char, 0) + 1\n",
    "    \n",
    "    have = 0\n",
    "    need = len(counts)\n",
    "    res_l, res_r = -1, -1\n",
    "    min_len = float('inf')\n",
    "    l = 0\n",
    "\n",
    "    for r in range(len(s)):\n",
    "        char = s[r]\n",
    "        if char in counts:\n",
    "            counts[char] -= 1\n",
    "            if counts[char] == 0:\n",
    "                have += 1\n",
    "        \n",
    "        while have == need:\n",
    "            if (r - l + 1) < min_len:\n",
    "                min_len = r - l + 1\n",
    "                res_l, res_r = l, r\n",
    "\n",
    "            left_char = s[l]\n",
    "            if left_char in counts:\n",
    "                if counts[left_char] == 0:\n",
    "                    have -= 1\n",
    "                counts[left_char] += 1\n",
    "            l += 1\n",
    "    \n",
    "    if min_len == float('inf'):\n",
    "        return \"\"\n",
    "    else:\n",
    "        return s[res_l:res_r + 1]\n",
    "    \n",
    "minwindow(\"OUZODYXAZV\",\"XYZ\")"
   ]
  },
  {
   "cell_type": "markdown",
   "id": "2cade021",
   "metadata": {},
   "source": [
    "**Sliding Window Maximum**\n",
    "\n",
    "You are given an array of integers nums and an integer k. There is a sliding window of size k that starts at the left edge of the array. The window slides one position to the right until it reaches the right edge of the array.\n",
    "\n",
    "Return a list that contains the maximum element in the window at each step.\n",
    "\n",
    "Example 1:\n",
    "\n",
    "Input: nums = [1,2,1,0,4,2,6], k = 3\n",
    "\n",
    "Output: [2,2,4,4,6]"
   ]
  },
  {
   "cell_type": "markdown",
   "id": "857f8224",
   "metadata": {},
   "source": [
    "Explanation: \n",
    "\n",
    "Window position            Max\n",
    "\n",
    "---------------           -----\n",
    "\n",
    "[1  2  1] 0  4  2  6        2\n",
    "\n",
    " 1 [2  1  0] 4  2  6        2\n",
    "\n",
    " 1  2 [1  0  4] 2  6        4\n",
    "\n",
    " 1  2  1 [0  4  2] 6        4\n",
    "\n",
    " 1  2  1  0 [4  2  6]       6"
   ]
  }
 ],
 "metadata": {
  "kernelspec": {
   "display_name": "Python 3",
   "language": "python",
   "name": "python3"
  },
  "language_info": {
   "codemirror_mode": {
    "name": "ipython",
    "version": 3
   },
   "file_extension": ".py",
   "mimetype": "text/x-python",
   "name": "python",
   "nbconvert_exporter": "python",
   "pygments_lexer": "ipython3",
   "version": "3.10.0"
  }
 },
 "nbformat": 4,
 "nbformat_minor": 5
}
