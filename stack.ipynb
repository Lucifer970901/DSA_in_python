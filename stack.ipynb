{
 "cells": [
  {
   "cell_type": "markdown",
   "id": "1f08acc5",
   "metadata": {},
   "source": [
    "**Minimum Remove to make Valid Parentheses**\n",
    "\n",
    "You are given a string s consisting of lowercase English characters, as well as opening and closing parentheses, ( and ).\n",
    "\n",
    "Your task is to remove the minimum number of parentheses so that the resulting string is valid.\n",
    "\n",
    "Return the resulting string after removing the invalid parentheses.\n",
    "\n",
    "A parentheses string is valid if all of the following conditions are met:\n",
    "\n",
    "It is the empty string, contains only lowercase characters, or\n",
    "It can be written as AB (A concatenated with B), where A and B are valid strings, or\n",
    "It can be written as (A), where A is a valid string.\n",
    "Example 1:\n",
    "\n",
    "Input: s = \"nee(t(c)o)de)\"\n",
    "\n",
    "Output: \"nee(t(c)ode)\"\n",
    "Explanation: \"nee(t(co)de)\" , \"nee(t(c)o)de\" would also be accepted.\n",
    "Example 2:\n",
    "\n",
    "Input: s = \"x(y)z(\"\n",
    "\n",
    "Output: \"x(y)z\"\n",
    "Example 3:\n",
    "\n",
    "Input: s = \"))()((\"\n",
    "\n",
    "Output: \"()\""
   ]
  },
  {
   "cell_type": "code",
   "execution_count": null,
   "id": "0cc6ad84",
   "metadata": {},
   "outputs": [
    {
     "data": {
      "text/plain": [
       "True"
      ]
     },
     "execution_count": 5,
     "metadata": {},
     "output_type": "execute_result"
    }
   ],
   "source": [
    "def isvalid(s):\n",
    "    stack = []\n",
    "    closetoopen = {')':'(',']':'[','}':'{'}\n",
    "\n",
    "    for c in s:\n",
    "        if c in closetoopen:\n",
    "            if stack and stack[-1] == closetoopen[c]:\n",
    "                stack.pop()\n",
    "            else:\n",
    "                return False\n",
    "        else:\n",
    "            if c in closetoopen.values(): #this ignores other characters apart from paranthesis\n",
    "                stack.append(c)\n",
    "    return True if not stack else False\n",
    "isvalid(\"(\")"
   ]
  },
  {
   "cell_type": "code",
   "execution_count": null,
   "id": "3c0b4ebf",
   "metadata": {},
   "outputs": [],
   "source": []
  }
 ],
 "metadata": {
  "kernelspec": {
   "display_name": "Python 3",
   "language": "python",
   "name": "python3"
  },
  "language_info": {
   "codemirror_mode": {
    "name": "ipython",
    "version": 3
   },
   "file_extension": ".py",
   "mimetype": "text/x-python",
   "name": "python",
   "nbconvert_exporter": "python",
   "pygments_lexer": "ipython3",
   "version": "3.10.0"
  }
 },
 "nbformat": 4,
 "nbformat_minor": 5
}
