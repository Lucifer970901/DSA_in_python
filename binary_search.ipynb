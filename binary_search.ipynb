{
 "cells": [
  {
   "cell_type": "markdown",
   "id": "dc7a119c",
   "metadata": {},
   "source": [
    "**Find Minimum in Rotated Sorted Array**\n",
    "\n",
    "You are given an array of length n which was originally sorted in ascending order. It has now been rotated between 1 and n times. For example, the array nums = [1,2,3,4,5,6] might become:\n",
    "\n",
    "[3,4,5,6,1,2] if it was rotated 4 times.\n",
    "[1,2,3,4,5,6] if it was rotated 6 times.\n",
    "Notice that rotating the array 4 times moves the last four elements of the array to the beginning. Rotating the array 6 times produces the original array.\n",
    "\n",
    "Assuming all elements in the rotated sorted array nums are unique, return the minimum element of this array.\n",
    "\n",
    "A solution that runs in O(n) time is trivial, can you write an algorithm that runs in O(log n) time?\n",
    "\n",
    "Example 1:\n",
    "\n",
    "Input: nums = [3,4,5,6,1,2]\n",
    "Output: 1\n",
    "\n",
    "Example 2:\n",
    "\n",
    "Input: nums = [4,5,0,1,2,3]\n",
    "Output: 0\n",
    "\n",
    "Example 3:\n",
    "\n",
    "Input: nums = [4,5,6,7]\n",
    "Output: 4"
   ]
  },
  {
   "cell_type": "code",
   "execution_count": null,
   "id": "2c116753",
   "metadata": {},
   "outputs": [
    {
     "data": {
      "text/plain": [
       "4"
      ]
     },
     "execution_count": 1,
     "metadata": {},
     "output_type": "execute_result"
    }
   ],
   "source": [
    "def findmin(nums):\n",
    "    min = float('inf')\n",
    "    for i in nums: #O(n)\n",
    "        if i < min:\n",
    "            min = i\n",
    "        else:\n",
    "            pass\n",
    "    return min\n",
    "findmin([4,5,6,7])"
   ]
  },
  {
   "cell_type": "code",
   "execution_count": null,
   "id": "cfc1daba",
   "metadata": {},
   "outputs": [
    {
     "data": {
      "text/plain": [
       "1"
      ]
     },
     "execution_count": 3,
     "metadata": {},
     "output_type": "execute_result"
    }
   ],
   "source": [
    "#let's find it within O(logn)\n",
    "def findmin(nums):\n",
    "    res = nums[0]\n",
    "    l,r = 0,len(nums)-1\n",
    "    while l <= r:\n",
    "        if nums[l]< nums[r]:\n",
    "            res = min(res,nums[l])\n",
    "            break\n",
    "        m = (l+r)//2\n",
    "        res = min(res,nums[m])\n",
    "        if nums[m] >= nums[l]:\n",
    "            l = m +1\n",
    "        else:\n",
    "            r = m-1\n",
    "    return res\n",
    "findmin([4,5,6,1,2,3])"
   ]
  },
  {
   "cell_type": "markdown",
   "id": "ce2fa163",
   "metadata": {},
   "source": [
    "**Search in Rotated Sorted Array**\n",
    "\n",
    "You are given an array of length n which was originally sorted in ascending order. It has now been rotated between 1 and n times. For example, the array nums = [1,2,3,4,5,6] might become:\n",
    "\n",
    "[3,4,5,6,1,2] if it was rotated 4 times.\n",
    "[1,2,3,4,5,6] if it was rotated 6 times.\n",
    "Given the rotated sorted array nums and an integer target, return the index of target within nums, or -1 if it is not present.\n",
    "\n",
    "You may assume all elements in the sorted rotated array nums are unique,\n",
    "\n",
    "A solution that runs in O(n) time is trivial, can you write an algorithm that runs in O(log n) time?\n",
    "\n",
    "Example 1:\n",
    "Input: nums = [3,4,5,6,1,2], target = 1\n",
    "Output: 4\n",
    "\n",
    "Example 2:\n",
    "Input: nums = [3,5,6,0,1,2], target = 4\n",
    "Output: -1"
   ]
  },
  {
   "cell_type": "code",
   "execution_count": null,
   "id": "705d653a",
   "metadata": {},
   "outputs": [
    {
     "data": {
      "text/plain": [
       "4"
      ]
     },
     "execution_count": 4,
     "metadata": {},
     "output_type": "execute_result"
    }
   ],
   "source": [
    "#brute force approach\n",
    "def search(nums,target):\n",
    "    if target not in nums:\n",
    "        return -1\n",
    "    for i in range(len(nums)):\n",
    "        if nums[i] == target:\n",
    "            return i\n",
    "        else:\n",
    "            pass\n",
    "search([3,4,5,6,1,2],1)"
   ]
  },
  {
   "cell_type": "code",
   "execution_count": 7,
   "id": "8000607a",
   "metadata": {},
   "outputs": [
    {
     "data": {
      "text/plain": [
       "1"
      ]
     },
     "execution_count": 7,
     "metadata": {},
     "output_type": "execute_result"
    }
   ],
   "source": [
    "def search(nums,target):\n",
    "    l,r = 0,len(nums)-1\n",
    "    while(l<=r):\n",
    "        m = (l+r)//2\n",
    "        if nums[m] == target:\n",
    "            return m\n",
    "        if nums[l] <= nums[m]:\n",
    "            if target < nums[l] or target > nums[m]:\n",
    "                l = m+ 1\n",
    "            else:\n",
    "                r = m - 1\n",
    "        else:\n",
    "            if target > nums[r] or target < nums[m]:\n",
    "                r = m - 1\n",
    "            else:\n",
    "                l = m + 1    \n",
    "    return -1\n",
    "search([3,1],1)"
   ]
  }
 ],
 "metadata": {
  "kernelspec": {
   "display_name": "Python 3",
   "language": "python",
   "name": "python3"
  },
  "language_info": {
   "codemirror_mode": {
    "name": "ipython",
    "version": 3
   },
   "file_extension": ".py",
   "mimetype": "text/x-python",
   "name": "python",
   "nbconvert_exporter": "python",
   "pygments_lexer": "ipython3",
   "version": "3.10.0"
  }
 },
 "nbformat": 4,
 "nbformat_minor": 5
}
